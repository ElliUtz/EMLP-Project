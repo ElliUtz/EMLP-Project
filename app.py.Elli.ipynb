{
 "cells": [
  {
   "cell_type": "code",
   "execution_count": 2,
   "metadata": {
    "collapsed": false,
    "jupyter": {
     "outputs_hidden": false
    },
    "pycharm": {
     "name": "#%%\n"
    }
   },
   "outputs": [],
   "source": [
    "import pandas as pd\n",
    "import numpy as np"
   ]
  },
  {
   "cell_type": "code",
   "execution_count": 3,
   "metadata": {
    "collapsed": false,
    "jupyter": {
     "outputs_hidden": false
    },
    "pycharm": {
     "name": "#%%\n"
    }
   },
   "outputs": [],
   "source": [
    "raw_data = pd.read_csv('netflix_titles.csv') #read data\n",
    "raw_data = raw_data.fillna('') #delete all NAN"
   ]
  },
  {
   "cell_type": "code",
   "execution_count": 4,
   "metadata": {
    "collapsed": false,
    "jupyter": {
     "outputs_hidden": false
    },
    "pycharm": {
     "name": "#%%\n"
    }
   },
   "outputs": [],
   "source": [
    "raw_data['type']= raw_data['type'].str.replace(' ', '')"
   ]
  },
  {
   "cell_type": "code",
   "execution_count": 5,
   "metadata": {
    "collapsed": false,
    "jupyter": {
     "outputs_hidden": false
    },
    "pycharm": {
     "name": "#%%\n"
    }
   },
   "outputs": [],
   "source": [
    "raw_data['description'] = raw_data['description'].str.lower() #Set description value\n",
    "\n",
    "def organize_data(data): #Save name and surname as one word\n",
    "    data = data.str.replace(', ',',')\n",
    "    data = data.str.replace(' ','')\n",
    "    data = data.str.lower()\n",
    "    data = data.str.replace(',',', ')\n",
    "    return data\n",
    "\n",
    "raw_data['director'] = organize_data(raw_data['director'])\n",
    "raw_data['listed_in'] = organize_data(raw_data['listed_in'])\n",
    "raw_data['cast'] = organize_data(raw_data['cast'])\n",
    "raw_data['country'] = organize_data(raw_data['country'])\n",
    "raw_data['type'] = organize_data(raw_data['type'])"
   ]
  },
  {
   "cell_type": "code",
   "execution_count": 6,
   "metadata": {
    "collapsed": false,
    "jupyter": {
     "outputs_hidden": false
    },
    "pycharm": {
     "name": "#%%\n"
    }
   },
   "outputs": [
    {
     "data": {
      "text/html": [
       "<div>\n",
       "<style scoped>\n",
       "    .dataframe tbody tr th:only-of-type {\n",
       "        vertical-align: middle;\n",
       "    }\n",
       "\n",
       "    .dataframe tbody tr th {\n",
       "        vertical-align: top;\n",
       "    }\n",
       "\n",
       "    .dataframe thead th {\n",
       "        text-align: right;\n",
       "    }\n",
       "</style>\n",
       "<table border=\"1\" class=\"dataframe\">\n",
       "  <thead>\n",
       "    <tr style=\"text-align: right;\">\n",
       "      <th></th>\n",
       "      <th>show_id</th>\n",
       "      <th>type</th>\n",
       "      <th>title</th>\n",
       "      <th>director</th>\n",
       "      <th>cast</th>\n",
       "      <th>country</th>\n",
       "      <th>date_added</th>\n",
       "      <th>release_year</th>\n",
       "      <th>rating</th>\n",
       "      <th>duration</th>\n",
       "      <th>listed_in</th>\n",
       "      <th>description</th>\n",
       "    </tr>\n",
       "  </thead>\n",
       "  <tbody>\n",
       "    <tr>\n",
       "      <th>0</th>\n",
       "      <td>81145628</td>\n",
       "      <td>movie</td>\n",
       "      <td>Norm of the North: King Sized Adventure</td>\n",
       "      <td>richardfinn, timmaltby</td>\n",
       "      <td>alanmarriott, andrewtoth, briandobson, colehow...</td>\n",
       "      <td>unitedstates, india, southkorea, china</td>\n",
       "      <td>September 9, 2019</td>\n",
       "      <td>2019</td>\n",
       "      <td>TV-PG</td>\n",
       "      <td>90 min</td>\n",
       "      <td>children&amp;familymovies, comedies</td>\n",
       "      <td>before planning an awesome wedding for his gra...</td>\n",
       "    </tr>\n",
       "    <tr>\n",
       "      <th>1</th>\n",
       "      <td>80117401</td>\n",
       "      <td>movie</td>\n",
       "      <td>Jandino: Whatever it Takes</td>\n",
       "      <td></td>\n",
       "      <td>jandinoasporaat</td>\n",
       "      <td>unitedkingdom</td>\n",
       "      <td>September 9, 2016</td>\n",
       "      <td>2016</td>\n",
       "      <td>TV-MA</td>\n",
       "      <td>94 min</td>\n",
       "      <td>stand-upcomedy</td>\n",
       "      <td>jandino asporaat riffs on the challenges of ra...</td>\n",
       "    </tr>\n",
       "    <tr>\n",
       "      <th>2</th>\n",
       "      <td>70234439</td>\n",
       "      <td>tvshow</td>\n",
       "      <td>Transformers Prime</td>\n",
       "      <td></td>\n",
       "      <td>petercullen, sumaleemontano, frankwelker, jeff...</td>\n",
       "      <td>unitedstates</td>\n",
       "      <td>September 8, 2018</td>\n",
       "      <td>2013</td>\n",
       "      <td>TV-Y7-FV</td>\n",
       "      <td>1 Season</td>\n",
       "      <td>kids'tv</td>\n",
       "      <td>with the help of three human allies, the autob...</td>\n",
       "    </tr>\n",
       "    <tr>\n",
       "      <th>3</th>\n",
       "      <td>80058654</td>\n",
       "      <td>tvshow</td>\n",
       "      <td>Transformers: Robots in Disguise</td>\n",
       "      <td></td>\n",
       "      <td>willfriedle, darrencriss, constancezimmer, kha...</td>\n",
       "      <td>unitedstates</td>\n",
       "      <td>September 8, 2018</td>\n",
       "      <td>2016</td>\n",
       "      <td>TV-Y7</td>\n",
       "      <td>1 Season</td>\n",
       "      <td>kids'tv</td>\n",
       "      <td>when a prison ship crash unleashes hundreds of...</td>\n",
       "    </tr>\n",
       "    <tr>\n",
       "      <th>4</th>\n",
       "      <td>80125979</td>\n",
       "      <td>movie</td>\n",
       "      <td>#realityhigh</td>\n",
       "      <td>fernandolebrija</td>\n",
       "      <td>nestacooper, katewalsh, johnmichaelhiggins, ke...</td>\n",
       "      <td>unitedstates</td>\n",
       "      <td>September 8, 2017</td>\n",
       "      <td>2017</td>\n",
       "      <td>TV-14</td>\n",
       "      <td>99 min</td>\n",
       "      <td>comedies</td>\n",
       "      <td>when nerdy high schooler dani finally attracts...</td>\n",
       "    </tr>\n",
       "  </tbody>\n",
       "</table>\n",
       "</div>"
      ],
      "text/plain": [
       "    show_id    type                                    title  \\\n",
       "0  81145628   movie  Norm of the North: King Sized Adventure   \n",
       "1  80117401   movie               Jandino: Whatever it Takes   \n",
       "2  70234439  tvshow                       Transformers Prime   \n",
       "3  80058654  tvshow         Transformers: Robots in Disguise   \n",
       "4  80125979   movie                             #realityhigh   \n",
       "\n",
       "                 director                                               cast  \\\n",
       "0  richardfinn, timmaltby  alanmarriott, andrewtoth, briandobson, colehow...   \n",
       "1                                                            jandinoasporaat   \n",
       "2                          petercullen, sumaleemontano, frankwelker, jeff...   \n",
       "3                          willfriedle, darrencriss, constancezimmer, kha...   \n",
       "4         fernandolebrija  nestacooper, katewalsh, johnmichaelhiggins, ke...   \n",
       "\n",
       "                                  country         date_added  release_year  \\\n",
       "0  unitedstates, india, southkorea, china  September 9, 2019          2019   \n",
       "1                           unitedkingdom  September 9, 2016          2016   \n",
       "2                            unitedstates  September 8, 2018          2013   \n",
       "3                            unitedstates  September 8, 2018          2016   \n",
       "4                            unitedstates  September 8, 2017          2017   \n",
       "\n",
       "     rating  duration                        listed_in  \\\n",
       "0     TV-PG    90 min  children&familymovies, comedies   \n",
       "1     TV-MA    94 min                   stand-upcomedy   \n",
       "2  TV-Y7-FV  1 Season                          kids'tv   \n",
       "3     TV-Y7  1 Season                          kids'tv   \n",
       "4     TV-14    99 min                         comedies   \n",
       "\n",
       "                                         description  \n",
       "0  before planning an awesome wedding for his gra...  \n",
       "1  jandino asporaat riffs on the challenges of ra...  \n",
       "2  with the help of three human allies, the autob...  \n",
       "3  when a prison ship crash unleashes hundreds of...  \n",
       "4  when nerdy high schooler dani finally attracts...  "
      ]
     },
     "execution_count": 6,
     "metadata": {},
     "output_type": "execute_result"
    }
   ],
   "source": [
    "raw_data.head()"
   ]
  },
  {
   "cell_type": "code",
   "execution_count": 6,
   "metadata": {
    "collapsed": false,
    "jupyter": {
     "outputs_hidden": false
    },
    "pycharm": {
     "name": "#%%\n"
    }
   },
   "outputs": [
    {
     "data": {
      "text/html": [
       "<div>\n",
       "<style scoped>\n",
       "    .dataframe tbody tr th:only-of-type {\n",
       "        vertical-align: middle;\n",
       "    }\n",
       "\n",
       "    .dataframe tbody tr th {\n",
       "        vertical-align: top;\n",
       "    }\n",
       "\n",
       "    .dataframe thead th {\n",
       "        text-align: right;\n",
       "    }\n",
       "</style>\n",
       "<table border=\"1\" class=\"dataframe\">\n",
       "  <thead>\n",
       "    <tr style=\"text-align: right;\">\n",
       "      <th></th>\n",
       "      <th>show_id</th>\n",
       "      <th>type</th>\n",
       "      <th>title</th>\n",
       "      <th>director</th>\n",
       "      <th>cast</th>\n",
       "      <th>country</th>\n",
       "      <th>date_added</th>\n",
       "      <th>release_year</th>\n",
       "      <th>rating</th>\n",
       "      <th>duration</th>\n",
       "      <th>listed_in</th>\n",
       "      <th>description</th>\n",
       "    </tr>\n",
       "  </thead>\n",
       "  <tbody>\n",
       "    <tr>\n",
       "      <th>0</th>\n",
       "      <td>81145628</td>\n",
       "      <td>movie</td>\n",
       "      <td>Norm of the North: King Sized Adventure</td>\n",
       "      <td>richardfinn timmaltby</td>\n",
       "      <td>alanmarriott andrewtoth briandobson colehoward...</td>\n",
       "      <td>unitedstates india southkorea china</td>\n",
       "      <td>September 9, 2019</td>\n",
       "      <td>2019</td>\n",
       "      <td>TVPG</td>\n",
       "      <td>90 min</td>\n",
       "      <td>childrenfamilymovies comedies</td>\n",
       "      <td>before planning an awesome wedding for his gra...</td>\n",
       "    </tr>\n",
       "    <tr>\n",
       "      <th>1</th>\n",
       "      <td>80117401</td>\n",
       "      <td>movie</td>\n",
       "      <td>Jandino: Whatever it Takes</td>\n",
       "      <td></td>\n",
       "      <td>jandinoasporaat</td>\n",
       "      <td>unitedkingdom</td>\n",
       "      <td>September 9, 2016</td>\n",
       "      <td>2016</td>\n",
       "      <td>TVMA</td>\n",
       "      <td>94 min</td>\n",
       "      <td>standupcomedy</td>\n",
       "      <td>jandino asporaat riffs on the challenges of ra...</td>\n",
       "    </tr>\n",
       "    <tr>\n",
       "      <th>2</th>\n",
       "      <td>70234439</td>\n",
       "      <td>tvshow</td>\n",
       "      <td>Transformers Prime</td>\n",
       "      <td></td>\n",
       "      <td>petercullen sumaleemontano frankwelker jeffrey...</td>\n",
       "      <td>unitedstates</td>\n",
       "      <td>September 8, 2018</td>\n",
       "      <td>2013</td>\n",
       "      <td>TVY7FV</td>\n",
       "      <td>1 Season</td>\n",
       "      <td>kidstv</td>\n",
       "      <td>with the help of three human allies, the autob...</td>\n",
       "    </tr>\n",
       "    <tr>\n",
       "      <th>3</th>\n",
       "      <td>80058654</td>\n",
       "      <td>tvshow</td>\n",
       "      <td>Transformers: Robots in Disguise</td>\n",
       "      <td></td>\n",
       "      <td>willfriedle darrencriss constancezimmer kharyp...</td>\n",
       "      <td>unitedstates</td>\n",
       "      <td>September 8, 2018</td>\n",
       "      <td>2016</td>\n",
       "      <td>TVY7</td>\n",
       "      <td>1 Season</td>\n",
       "      <td>kidstv</td>\n",
       "      <td>when a prison ship crash unleashes hundreds of...</td>\n",
       "    </tr>\n",
       "    <tr>\n",
       "      <th>4</th>\n",
       "      <td>80125979</td>\n",
       "      <td>movie</td>\n",
       "      <td>#realityhigh</td>\n",
       "      <td>fernandolebrija</td>\n",
       "      <td>nestacooper katewalsh johnmichaelhiggins keith...</td>\n",
       "      <td>unitedstates</td>\n",
       "      <td>September 8, 2017</td>\n",
       "      <td>2017</td>\n",
       "      <td>TV14</td>\n",
       "      <td>99 min</td>\n",
       "      <td>comedies</td>\n",
       "      <td>when nerdy high schooler dani finally attracts...</td>\n",
       "    </tr>\n",
       "  </tbody>\n",
       "</table>\n",
       "</div>"
      ],
      "text/plain": [
       "    show_id    type                                    title  \\\n",
       "0  81145628   movie  Norm of the North: King Sized Adventure   \n",
       "1  80117401   movie               Jandino: Whatever it Takes   \n",
       "2  70234439  tvshow                       Transformers Prime   \n",
       "3  80058654  tvshow         Transformers: Robots in Disguise   \n",
       "4  80125979   movie                             #realityhigh   \n",
       "\n",
       "                director                                               cast  \\\n",
       "0  richardfinn timmaltby  alanmarriott andrewtoth briandobson colehoward...   \n",
       "1                                                           jandinoasporaat   \n",
       "2                         petercullen sumaleemontano frankwelker jeffrey...   \n",
       "3                         willfriedle darrencriss constancezimmer kharyp...   \n",
       "4        fernandolebrija  nestacooper katewalsh johnmichaelhiggins keith...   \n",
       "\n",
       "                               country         date_added  release_year  \\\n",
       "0  unitedstates india southkorea china  September 9, 2019          2019   \n",
       "1                        unitedkingdom  September 9, 2016          2016   \n",
       "2                         unitedstates  September 8, 2018          2013   \n",
       "3                         unitedstates  September 8, 2018          2016   \n",
       "4                         unitedstates  September 8, 2017          2017   \n",
       "\n",
       "   rating  duration                      listed_in  \\\n",
       "0    TVPG    90 min  childrenfamilymovies comedies   \n",
       "1    TVMA    94 min                  standupcomedy   \n",
       "2  TVY7FV  1 Season                         kidstv   \n",
       "3    TVY7  1 Season                         kidstv   \n",
       "4    TV14    99 min                       comedies   \n",
       "\n",
       "                                         description  \n",
       "0  before planning an awesome wedding for his gra...  \n",
       "1  jandino asporaat riffs on the challenges of ra...  \n",
       "2  with the help of three human allies, the autob...  \n",
       "3  when a prison ship crash unleashes hundreds of...  \n",
       "4  when nerdy high schooler dani finally attracts...  "
      ]
     },
     "execution_count": 6,
     "metadata": {},
     "output_type": "execute_result"
    }
   ],
   "source": [
    "import string\n",
    "# Delete all punctuation\n",
    "raw_data['cast'] = [row.translate(str.maketrans(\"\",\"\", string.punctuation)) for row in raw_data['cast']]\n",
    "raw_data['listed_in'] = [row.translate(str.maketrans(\"\",\"\", string.punctuation)) for row in raw_data['listed_in']]\n",
    "raw_data['director'] = [row.translate(str.maketrans(\"\",\"\", string.punctuation)) for row in raw_data['director']]\n",
    "raw_data['country'] = [row.translate(str.maketrans(\"\",\"\", string.punctuation)) for row in raw_data['country']]\n",
    "raw_data['rating'] = [row.translate(str.maketrans(\"\",\"\", string.punctuation)) for row in raw_data['rating']]\n",
    "raw_data.head()"
   ]
  },
  {
   "cell_type": "code",
   "execution_count": 8,
   "metadata": {
    "collapsed": false,
    "jupyter": {
     "outputs_hidden": false
    },
    "pycharm": {
     "name": "#%%\n"
    }
   },
   "outputs": [],
   "source": [
    "# create net BoW columns (genre and team)\n",
    "raw_data['genre']  = raw_data['type'] +' ' +  raw_data['listed_in']+ ' ' + raw_data['rating']\n",
    "raw_data['team']  = raw_data['director'] + ' ' + raw_data['cast']"
   ]
  },
  {
   "cell_type": "code",
   "execution_count": 9,
   "metadata": {
    "collapsed": false,
    "jupyter": {
     "outputs_hidden": false
    },
    "pycharm": {
     "name": "#%%\n"
    }
   },
   "outputs": [],
   "source": [
    "final_data = raw_data[['show_id','title','description', 'team', 'genre','country']]"
   ]
  },
  {
   "cell_type": "code",
   "execution_count": 10,
   "metadata": {
    "collapsed": false,
    "jupyter": {
     "outputs_hidden": false
    },
    "pycharm": {
     "name": "#%%\n"
    }
   },
   "outputs": [
    {
     "data": {
      "text/html": [
       "<div>\n",
       "<style scoped>\n",
       "    .dataframe tbody tr th:only-of-type {\n",
       "        vertical-align: middle;\n",
       "    }\n",
       "\n",
       "    .dataframe tbody tr th {\n",
       "        vertical-align: top;\n",
       "    }\n",
       "\n",
       "    .dataframe thead th {\n",
       "        text-align: right;\n",
       "    }\n",
       "</style>\n",
       "<table border=\"1\" class=\"dataframe\">\n",
       "  <thead>\n",
       "    <tr style=\"text-align: right;\">\n",
       "      <th></th>\n",
       "      <th>show_id</th>\n",
       "      <th>title</th>\n",
       "      <th>description</th>\n",
       "      <th>team</th>\n",
       "      <th>genre</th>\n",
       "      <th>country</th>\n",
       "    </tr>\n",
       "  </thead>\n",
       "  <tbody>\n",
       "    <tr>\n",
       "      <th>0</th>\n",
       "      <td>81145628</td>\n",
       "      <td>Norm of the North: King Sized Adventure</td>\n",
       "      <td>before planning an awesome wedding for his gra...</td>\n",
       "      <td>richardfinn timmaltby alanmarriott andrewtoth ...</td>\n",
       "      <td>movie childrenfamilymovies comedies TVPG</td>\n",
       "      <td>unitedstates india southkorea china</td>\n",
       "    </tr>\n",
       "    <tr>\n",
       "      <th>1</th>\n",
       "      <td>80117401</td>\n",
       "      <td>Jandino: Whatever it Takes</td>\n",
       "      <td>jandino asporaat riffs on the challenges of ra...</td>\n",
       "      <td>jandinoasporaat</td>\n",
       "      <td>movie standupcomedy TVMA</td>\n",
       "      <td>unitedkingdom</td>\n",
       "    </tr>\n",
       "    <tr>\n",
       "      <th>2</th>\n",
       "      <td>70234439</td>\n",
       "      <td>Transformers Prime</td>\n",
       "      <td>with the help of three human allies, the autob...</td>\n",
       "      <td>petercullen sumaleemontano frankwelker jeffre...</td>\n",
       "      <td>tvshow kidstv TVY7FV</td>\n",
       "      <td>unitedstates</td>\n",
       "    </tr>\n",
       "    <tr>\n",
       "      <th>3</th>\n",
       "      <td>80058654</td>\n",
       "      <td>Transformers: Robots in Disguise</td>\n",
       "      <td>when a prison ship crash unleashes hundreds of...</td>\n",
       "      <td>willfriedle darrencriss constancezimmer khary...</td>\n",
       "      <td>tvshow kidstv TVY7</td>\n",
       "      <td>unitedstates</td>\n",
       "    </tr>\n",
       "    <tr>\n",
       "      <th>4</th>\n",
       "      <td>80125979</td>\n",
       "      <td>#realityhigh</td>\n",
       "      <td>when nerdy high schooler dani finally attracts...</td>\n",
       "      <td>fernandolebrija nestacooper katewalsh johnmich...</td>\n",
       "      <td>movie comedies TV14</td>\n",
       "      <td>unitedstates</td>\n",
       "    </tr>\n",
       "  </tbody>\n",
       "</table>\n",
       "</div>"
      ],
      "text/plain": [
       "    show_id                                    title  \\\n",
       "0  81145628  Norm of the North: King Sized Adventure   \n",
       "1  80117401               Jandino: Whatever it Takes   \n",
       "2  70234439                       Transformers Prime   \n",
       "3  80058654         Transformers: Robots in Disguise   \n",
       "4  80125979                             #realityhigh   \n",
       "\n",
       "                                         description  \\\n",
       "0  before planning an awesome wedding for his gra...   \n",
       "1  jandino asporaat riffs on the challenges of ra...   \n",
       "2  with the help of three human allies, the autob...   \n",
       "3  when a prison ship crash unleashes hundreds of...   \n",
       "4  when nerdy high schooler dani finally attracts...   \n",
       "\n",
       "                                                team  \\\n",
       "0  richardfinn timmaltby alanmarriott andrewtoth ...   \n",
       "1                                    jandinoasporaat   \n",
       "2   petercullen sumaleemontano frankwelker jeffre...   \n",
       "3   willfriedle darrencriss constancezimmer khary...   \n",
       "4  fernandolebrija nestacooper katewalsh johnmich...   \n",
       "\n",
       "                                      genre  \\\n",
       "0  movie childrenfamilymovies comedies TVPG   \n",
       "1                  movie standupcomedy TVMA   \n",
       "2                      tvshow kidstv TVY7FV   \n",
       "3                        tvshow kidstv TVY7   \n",
       "4                       movie comedies TV14   \n",
       "\n",
       "                               country  \n",
       "0  unitedstates india southkorea china  \n",
       "1                        unitedkingdom  \n",
       "2                         unitedstates  \n",
       "3                         unitedstates  \n",
       "4                         unitedstates  "
      ]
     },
     "execution_count": 10,
     "metadata": {},
     "output_type": "execute_result"
    }
   ],
   "source": [
    "final_data.head()"
   ]
  },
  {
   "cell_type": "code",
   "execution_count": 11,
   "metadata": {
    "collapsed": false,
    "jupyter": {
     "outputs_hidden": false
    },
    "pycharm": {
     "name": "#%%\n"
    }
   },
   "outputs": [
    {
     "name": "stderr",
     "output_type": "stream",
     "text": [
      "<ipython-input-11-7a0e6b632acd>:1: SettingWithCopyWarning: \n",
      "A value is trying to be set on a copy of a slice from a DataFrame.\n",
      "Try using .loc[row_indexer,col_indexer] = value instead\n",
      "\n",
      "See the caveats in the documentation: https://pandas.pydata.org/pandas-docs/stable/user_guide/indexing.html#returning-a-view-versus-a-copy\n",
      "  final_data['BoW_all'] = final_data['country']+' '+final_data['description']+' '+final_data['team']+' '+final_data['genre']\n"
     ]
    }
   ],
   "source": [
    "final_data['BoW_all'] = final_data['country']+' '+final_data['description']+' '+final_data['team']+' '+final_data['genre']"
   ]
  },
  {
   "cell_type": "code",
   "execution_count": 12,
   "metadata": {
    "collapsed": false,
    "jupyter": {
     "outputs_hidden": false
    },
    "pycharm": {
     "name": "#%%\n"
    }
   },
   "outputs": [],
   "source": [
    "from sklearn.feature_extraction.text import CountVectorizer\n",
    "from sklearn.feature_extraction.text import TfidfTransformer\n",
    "\n",
    "countvector= CountVectorizer()\n",
    "tfidf_transformer = TfidfTransformer()\n",
    "# svd = TruncatedSVD(n_components=1000, n_iter=10, random_state=42)\n",
    "\n",
    "description_matrix = countvector.fit_transform(final_data['description'])\n",
    "description_matrix = tfidf_transformer.fit_transform(description_matrix)\n",
    "# description_matrix = svd.fit_transform(description_matrix)\n",
    "team_matrix = countvector.fit_transform(final_data['team'])\n",
    "genre_matrix = countvector.fit_transform(final_data['genre'])\n",
    "country_matrix = countvector.fit_transform(final_data['country'])"
   ]
  },
  {
   "cell_type": "code",
   "execution_count": null,
   "metadata": {
    "collapsed": false,
    "jupyter": {
     "outputs_hidden": false
    },
    "pycharm": {
     "name": "#%%\n"
    }
   },
   "outputs": [],
   "source": [
    "all_matrix = countvector.fit_transform(final_data['BoW_all'])\n",
    "all_matrix.shape\n",
    "from sklearn.decomposition import TruncatedSVD\n",
    "svd = TruncatedSVD(n_components = 6000, n_iter = 5)\n",
    "all_matrix_svd = svd.fit_transform(all_matrix)\n",
    "explained_variance = svd.explained_variance_ratio_.sum()\n",
    "print(explained_variance)"
   ]
  },
  {
   "cell_type": "code",
   "execution_count": 13,
   "metadata": {
    "collapsed": false,
    "jupyter": {
     "outputs_hidden": false
    },
    "pycharm": {
     "name": "#%%\n"
    }
   },
   "outputs": [
    {
     "data": {
      "text/plain": [
       "0    Norm of the North: King Sized Adventure\n",
       "1                 Jandino: Whatever it Takes\n",
       "2                         Transformers Prime\n",
       "3           Transformers: Robots in Disguise\n",
       "4                               #realityhigh\n",
       "Name: title, dtype: object"
      ]
     },
     "execution_count": 13,
     "metadata": {},
     "output_type": "execute_result"
    }
   ],
   "source": [
    "from sklearn.preprocessing import MinMaxScaler\n",
    "scaler = MinMaxScaler()\n",
    "\n",
    "indices = pd.Series(final_data['title'])\n",
    "indices[:5]"
   ]
  },
  {
   "cell_type": "code",
   "execution_count": 16,
   "metadata": {
    "collapsed": false,
    "jupyter": {
     "outputs_hidden": false
    },
    "pycharm": {
     "name": "#%%\n"
    }
   },
   "outputs": [],
   "source": [
    "# generating the cosine similarity matrix\n",
    "from sklearn.metrics.pairwise import cosine_similarity\n",
    "description_sim = cosine_similarity(description_matrix, description_matrix)\n",
    "genre_sim = cosine_similarity(genre_matrix, genre_matrix)\n",
    "team_sim = cosine_similarity(team_matrix, team_matrix)\n",
    "country_sim = cosine_similarity(country_matrix,country_matrix)\n",
    "\n",
    "\n",
    "all_sim = cosine_similarity(all_matrix,all_matrix)\n",
    "all_sim_svd = cosine_similarity(all_matrix_svd,all_matrix_svd)"
   ]
  },
  {
   "cell_type": "code",
   "execution_count": 18,
   "metadata": {
    "pycharm": {
     "name": "#%%\n"
    }
   },
   "outputs": [
    {
     "data": {
      "text/plain": [
       "['Golden Time',\n",
       " 'Sex, Explained',\n",
       " 'Scorpion King 5: Book of Souls',\n",
       " 'Black Panther',\n",
       " 'Thor: Ragnarok',\n",
       " 'Fishpeople',\n",
       " 'Growing Up Wild',\n",
       " 'Godzilla',\n",
       " 'League of Legends Origins',\n",
       " 'The Legend of 420']"
      ]
     },
     "execution_count": 18,
     "metadata": {},
     "output_type": "execute_result"
    }
   ],
   "source": [
    "cosine_sim  = genre_sim + team_sim + description_sim + country_sim\n",
    "# we can configurate cooef to similarity table (in this case all coef for team and ganre will be 2x)\n",
    "\n",
    "# svd = TruncatedSVD(n_components=1000, n_iter=10, random_state=42)\n",
    "# components = svd.fit_transform(cosine_sim)\n",
    "\n",
    "def recommendations(title, cosine_sim = all_sim_svd):\n",
    "    \n",
    "    recommended_movies = []\n",
    "    \n",
    "    # gettin the index of the movie that matches the title\n",
    "    idx = indices[indices == title].index[0]\n",
    "\n",
    "    # creating a Series with the similarity scores in descending order\n",
    "    score_series = pd.Series(cosine_sim[idx]).sort_values(ascending = False)\n",
    "\n",
    "    #print(score_series)\n",
    "    # getting the indexes of the 10 most similar movies\n",
    "    top_10_indexes = list(score_series.iloc[1:11].index)\n",
    "    # populating the list with the titles of the best 10 matching movies\n",
    "    for i in top_10_indexes:\n",
    "        recommended_movies.append(list(raw_data['title'])[i])\n",
    "        \n",
    "    return recommended_movies\n",
    "\n",
    "recommendations('Avengers: Infinity War')"
   ]
  },
  {
   "cell_type": "code",
   "execution_count": 67,
   "metadata": {},
   "outputs": [],
   "source": [
    "# generating the sigmoid kernel similarity matrix\n",
    "from sklearn.metrics.pairwise import sigmoid_kernel\n",
    "description_sig = sigmoid_kernel(description_matrix, description_matrix)\n",
    "genre_sig = sigmoid_kernel(genre_matrix, genre_matrix)\n",
    "team_sig = sigmoid_kernel(team_matrix, team_matrix)\n",
    "country_sig = sigmoid_kernel(country_matrix,country_matrix)\n",
    "\n",
    "\n",
    "all_sig = sigmoid_kernel(all_matrix,all_matrix)\n",
    "\n",
    "# help(sigmoid_kernel)"
   ]
  },
  {
   "cell_type": "code",
   "execution_count": 71,
   "metadata": {},
   "outputs": [
    {
     "data": {
      "text/plain": [
       "['Thor: Ragnarok',\n",
       " 'Black Panther',\n",
       " 'Star Wars: Episode VIII: The Last Jedi',\n",
       " 'Solo: A Star Wars Story',\n",
       " 'Solo: A Star Wars Story (Spanish Version)',\n",
       " 'Limitless',\n",
       " 'Ant-Man and the Wasp',\n",
       " 'Godzilla',\n",
       " 'Scorpion King 5: Book of Souls',\n",
       " 'HALO Legends']"
      ]
     },
     "execution_count": 71,
     "metadata": {},
     "output_type": "execute_result"
    }
   ],
   "source": [
    "sigmoid  = genre_sig + team_sig + description_sig + country_sig\n",
    "\n",
    "# we can configurate cooef to similarity table (in this case all coef for team and ganre will be 2x)\n",
    "\n",
    "def recommendations(title, cosine_sim = sigmoid):\n",
    "    \n",
    "    recommended_movies = []\n",
    "    \n",
    "    # gettin the index of the movie that matches the title\n",
    "    idx = indices[indices == title].index[0]\n",
    "\n",
    "    # creating a Series with the similarity scores in descending order\n",
    "    score_series = pd.Series(cosine_sim[idx]).sort_values(ascending = False)\n",
    "\n",
    "    #print(score_series)\n",
    "    # getting the indexes of the 10 most similar movies\n",
    "    top_10_indexes = list(score_series.iloc[1:11].index)\n",
    "    # populating the list with the titles of the best 10 matching movies\n",
    "    for i in top_10_indexes:\n",
    "        recommended_movies.append(list(raw_data['title'])[i])\n",
    "        \n",
    "    return recommended_movies\n",
    "\n",
    "recommendations('Avengers: Infinity War')"
   ]
  },
  {
   "cell_type": "code",
   "execution_count": 80,
   "metadata": {},
   "outputs": [],
   "source": [
    "# generating the polynomial similarity matrix\n",
    "from sklearn.metrics.pairwise import polynomial_kernel\n",
    "description_poly = polynomial_kernel(description_matrix, description_matrix)\n",
    "ganre_poly = polynomial_kernel(ganre_matrix, ganre_matrix)\n",
    "team_poly = polynomial_kernel(team_matrix, team_matrix)\n",
    "country_poly = polynomial_kernel(country_matrix,country_matrix)\n",
    "\n",
    "\n",
    "all_poly = polynomial_kernel(all_matrix,all_matrix)\n",
    "\n",
    "# help(sigmoid_kernel)"
   ]
  },
  {
   "cell_type": "code",
   "execution_count": 86,
   "metadata": {},
   "outputs": [
    {
     "data": {
      "text/plain": [
       "['Thor: Ragnarok',\n",
       " 'Black Panther',\n",
       " 'Star Wars: Episode VIII: The Last Jedi',\n",
       " 'Solo: A Star Wars Story',\n",
       " 'Solo: A Star Wars Story (Spanish Version)',\n",
       " 'Limitless',\n",
       " 'Ant-Man and the Wasp',\n",
       " 'Godzilla',\n",
       " 'Scorpion King 5: Book of Souls',\n",
       " 'HALO Legends']"
      ]
     },
     "execution_count": 86,
     "metadata": {},
     "output_type": "execute_result"
    }
   ],
   "source": [
    "polynomial  = ganre_poly + team_poly + description_poly + country_poly\n",
    "\n",
    "# we can configurate cooef to similarity table (in this case all coef for team and ganre will be 2x)\n",
    "\n",
    "def recommendations(title, cosine_sim = polynomial):\n",
    "    \n",
    "    recommended_movies = []\n",
    "    \n",
    "    # gettin the index of the movie that matches the title\n",
    "    idx = indices[indices == title].index[0]\n",
    "\n",
    "    # creating a Series with the similarity scores in descending order\n",
    "    score_series = pd.Series(cosine_sim[idx]).sort_values(ascending = False)\n",
    "\n",
    "    #print(score_series)\n",
    "    # getting the indexes of the 10 most similar movies\n",
    "    top_10_indexes = list(score_series.iloc[1:11].index)\n",
    "    # populating the list with the titles of the best 10 matching movies\n",
    "    for i in top_10_indexes:\n",
    "        recommended_movies.append(list(raw_data['title'])[i])\n",
    "        \n",
    "    return recommended_movies\n",
    "\n",
    "recommendations('Avengers: Infinity War')"
   ]
  },
  {
   "cell_type": "code",
   "execution_count": 87,
   "metadata": {},
   "outputs": [],
   "source": [
    "# generating the RBF kernel similarity matrix\n",
    "from sklearn.metrics.pairwise import rbf_kernel\n",
    "description_rbf = rbf_kernel(description_matrix, description_matrix)\n",
    "ganre_rbf = rbf_kernel(ganre_matrix, ganre_matrix)\n",
    "team_rbf = rbf_kernel(team_matrix, team_matrix)\n",
    "country_rbf = rbf_kernel(country_matrix,country_matrix)\n",
    "\n",
    "\n",
    "all_rbf = rbf_kernel(all_matrix,all_matrix)"
   ]
  },
  {
   "cell_type": "code",
   "execution_count": 88,
   "metadata": {},
   "outputs": [
    {
     "data": {
      "text/plain": [
       "['Scorpion King 5: Book of Souls',\n",
       " 'Dragonheart',\n",
       " 'Dragonheart: Battle for the Heartfire',\n",
       " 'Superman Returns',\n",
       " 'Season of the Witch',\n",
       " 'Dragonheart 3: The Sorcerer',\n",
       " 'Next',\n",
       " 'Skyline',\n",
       " 'Æon Flux',\n",
       " 'Black Panther']"
      ]
     },
     "execution_count": 88,
     "metadata": {},
     "output_type": "execute_result"
    }
   ],
   "source": [
    "rbf  = ganre_rbf + team_rbf + description_rbf + country_rbf\n",
    "\n",
    "# we can configurate cooef to similarity table (in this case all coef for team and ganre will be 2x)\n",
    "\n",
    "def recommendations(title, cosine_sim = rbf):\n",
    "    \n",
    "    recommended_movies = []\n",
    "    \n",
    "    # gettin the index of the movie that matches the title\n",
    "    idx = indices[indices == title].index[0]\n",
    "\n",
    "    # creating a Series with the similarity scores in descending order\n",
    "    score_series = pd.Series(cosine_sim[idx]).sort_values(ascending = False)\n",
    "\n",
    "    #print(score_series)\n",
    "    # getting the indexes of the 10 most similar movies\n",
    "    top_10_indexes = list(score_series.iloc[1:11].index)\n",
    "    # populating the list with the titles of the best 10 matching movies\n",
    "    for i in top_10_indexes:\n",
    "        recommended_movies.append(list(raw_data['title'])[i])\n",
    "        \n",
    "    return recommended_movies\n",
    "\n",
    "recommendations('Avengers: Infinity War')"
   ]
  },
  {
   "cell_type": "code",
   "execution_count": 14,
   "metadata": {},
   "outputs": [],
   "source": [
    "# generating the Laplacian kernel similarity matrix\n",
    "from sklearn.metrics.pairwise import laplacian_kernel\n",
    "description_lk = laplacian_kernel(description_matrix, description_matrix)\n",
    "ganre_lk = laplacian_kernel(ganre_matrix, ganre_matrix)\n",
    "team_lk = laplacian_kernel(team_matrix, team_matrix)\n",
    "country_lk = laplacian_kernel(country_matrix,country_matrix)\n",
    "\n",
    "\n",
    "all_lk = laplacian_kernel(all_matrix,all_matrix)"
   ]
  },
  {
   "cell_type": "code",
   "execution_count": 17,
   "metadata": {},
   "outputs": [
    {
     "data": {
      "text/plain": [
       "['Scorpion King 5: Book of Souls',\n",
       " 'Dragonheart',\n",
       " 'Season of the Witch',\n",
       " 'Dragonheart: Battle for the Heartfire',\n",
       " 'Dragonheart 3: The Sorcerer',\n",
       " 'Next',\n",
       " 'Æon Flux',\n",
       " 'Superman Returns',\n",
       " 'Skyline',\n",
       " 'Black Panther']"
      ]
     },
     "execution_count": 17,
     "metadata": {},
     "output_type": "execute_result"
    }
   ],
   "source": [
    "lk  = ganre_lk + team_lk + description_lk + country_lk\n",
    "# we can configurate cooef to similarity table (in this case all coef for team and ganre will be 2x)\n",
    "\n",
    "def recommendations(title, cosine_sim = lk):\n",
    "    \n",
    "    recommended_movies = []\n",
    "    \n",
    "    # gettin the index of the movie that matches the title\n",
    "    idx = indices[indices == title].index[0]\n",
    "\n",
    "    # creating a Series with the similarity scores in descending order\n",
    "    score_series = pd.Series(cosine_sim[idx]).sort_values(ascending = False)\n",
    "\n",
    "    #print(score_series)\n",
    "    # getting the indexes of the 10 most similar movies\n",
    "    top_10_indexes = list(score_series.iloc[1:11].index)\n",
    "    # populating the list with the titles of the best 10 matching movies\n",
    "    for i in top_10_indexes:\n",
    "        recommended_movies.append(list(raw_data['title'])[i])\n",
    "        \n",
    "    return recommended_movies\n",
    "\n",
    "recommendations('Avengers: Infinity War')"
   ]
  },
  {
   "cell_type": "code",
   "execution_count": 16,
   "metadata": {
    "collapsed": false,
    "jupyter": {
     "outputs_hidden": false
    },
    "pycharm": {
     "name": "#%%\n"
    }
   },
   "outputs": [
    {
     "data": {
      "text/html": [
       "<div>\n",
       "<style scoped>\n",
       "    .dataframe tbody tr th:only-of-type {\n",
       "        vertical-align: middle;\n",
       "    }\n",
       "\n",
       "    .dataframe tbody tr th {\n",
       "        vertical-align: top;\n",
       "    }\n",
       "\n",
       "    .dataframe thead th {\n",
       "        text-align: right;\n",
       "    }\n",
       "</style>\n",
       "<table border=\"1\" class=\"dataframe\">\n",
       "  <thead>\n",
       "    <tr style=\"text-align: right;\">\n",
       "      <th></th>\n",
       "      <th>show_id</th>\n",
       "      <th>type</th>\n",
       "      <th>title</th>\n",
       "      <th>director</th>\n",
       "      <th>cast</th>\n",
       "      <th>country</th>\n",
       "      <th>date_added</th>\n",
       "      <th>release_year</th>\n",
       "      <th>rating</th>\n",
       "      <th>duration</th>\n",
       "      <th>listed_in</th>\n",
       "      <th>description</th>\n",
       "      <th>ganre</th>\n",
       "      <th>team</th>\n",
       "    </tr>\n",
       "  </thead>\n",
       "  <tbody>\n",
       "    <tr>\n",
       "      <th>160</th>\n",
       "      <td>80184771</td>\n",
       "      <td>tvshow</td>\n",
       "      <td>Inside Bill's Brain: Decoding Bill Gates</td>\n",
       "      <td></td>\n",
       "      <td>billgates</td>\n",
       "      <td>unitedstates</td>\n",
       "      <td>September 20, 2019</td>\n",
       "      <td>2019</td>\n",
       "      <td>TV14</td>\n",
       "      <td>1 Season</td>\n",
       "      <td>docuseries sciencenaturetv</td>\n",
       "      <td>take a trip inside the mind of bill gates as t...</td>\n",
       "      <td>tvshow docuseries sciencenaturetv TV14</td>\n",
       "      <td>billgates</td>\n",
       "    </tr>\n",
       "    <tr>\n",
       "      <th>293</th>\n",
       "      <td>81060174</td>\n",
       "      <td>movie</td>\n",
       "      <td>Bill Burr: Paper Tiger</td>\n",
       "      <td>mikebinder</td>\n",
       "      <td>billburr</td>\n",
       "      <td>unitedstates unitedkingdom</td>\n",
       "      <td>September 10, 2019</td>\n",
       "      <td>2019</td>\n",
       "      <td>TVMA</td>\n",
       "      <td>67 min</td>\n",
       "      <td>standupcomedy</td>\n",
       "      <td>bill burr unloads on outrage culture, male fem...</td>\n",
       "      <td>movie standupcomedy TVMA</td>\n",
       "      <td>mikebinder billburr</td>\n",
       "    </tr>\n",
       "    <tr>\n",
       "      <th>1335</th>\n",
       "      <td>70174733</td>\n",
       "      <td>movie</td>\n",
       "      <td>Bill Burr: Let It Go</td>\n",
       "      <td>shannonhartman</td>\n",
       "      <td>billburr</td>\n",
       "      <td>unitedstates</td>\n",
       "      <td>November 10, 2017</td>\n",
       "      <td>2010</td>\n",
       "      <td>NR</td>\n",
       "      <td>65 min</td>\n",
       "      <td>standupcomedy</td>\n",
       "      <td>the musings of comedian bill burr are let loos...</td>\n",
       "      <td>movie standupcomedy NR</td>\n",
       "      <td>shannonhartman billburr</td>\n",
       "    </tr>\n",
       "    <tr>\n",
       "      <th>2485</th>\n",
       "      <td>70245034</td>\n",
       "      <td>movie</td>\n",
       "      <td>Bill Burr: You People Are All the Same</td>\n",
       "      <td>jaykaras</td>\n",
       "      <td>billburr</td>\n",
       "      <td>unitedstates</td>\n",
       "      <td>June 30, 2018</td>\n",
       "      <td>2012</td>\n",
       "      <td>NR</td>\n",
       "      <td>69 min</td>\n",
       "      <td>standupcomedy</td>\n",
       "      <td>funnyman bill burr takes the stage to uncork a...</td>\n",
       "      <td>movie standupcomedy NR</td>\n",
       "      <td>jaykaras billburr</td>\n",
       "    </tr>\n",
       "    <tr>\n",
       "      <th>3237</th>\n",
       "      <td>80133549</td>\n",
       "      <td>movie</td>\n",
       "      <td>Bill Burr: Walk Your Way Out</td>\n",
       "      <td>jaykaras</td>\n",
       "      <td>billburr</td>\n",
       "      <td>unitedstates</td>\n",
       "      <td>January 31, 2017</td>\n",
       "      <td>2017</td>\n",
       "      <td>TVMA</td>\n",
       "      <td>78 min</td>\n",
       "      <td>standupcomedy</td>\n",
       "      <td>no-nonsense comic bill burr takes the stage in...</td>\n",
       "      <td>movie standupcomedy TVMA</td>\n",
       "      <td>jaykaras billburr</td>\n",
       "    </tr>\n",
       "    <tr>\n",
       "      <th>3530</th>\n",
       "      <td>60031236</td>\n",
       "      <td>movie</td>\n",
       "      <td>Kill Bill: Vol. 1</td>\n",
       "      <td>quentintarantino</td>\n",
       "      <td>umathurman lucyliu vivicaafox darylhannah davi...</td>\n",
       "      <td>unitedstates japan</td>\n",
       "      <td>January 1, 2020</td>\n",
       "      <td>2003</td>\n",
       "      <td>R</td>\n",
       "      <td>111 min</td>\n",
       "      <td>actionadventure</td>\n",
       "      <td>an assassin is shot by her ruthless employer, ...</td>\n",
       "      <td>movie actionadventure R</td>\n",
       "      <td>quentintarantino umathurman lucyliu vivicaafox...</td>\n",
       "    </tr>\n",
       "    <tr>\n",
       "      <th>3531</th>\n",
       "      <td>60032563</td>\n",
       "      <td>movie</td>\n",
       "      <td>Kill Bill: Vol. 2</td>\n",
       "      <td>quentintarantino</td>\n",
       "      <td>umathurman davidcarradine michaelmadsen darylh...</td>\n",
       "      <td>unitedstates</td>\n",
       "      <td>January 1, 2020</td>\n",
       "      <td>2004</td>\n",
       "      <td>R</td>\n",
       "      <td>137 min</td>\n",
       "      <td>actionadventure</td>\n",
       "      <td>the bride has three left on her rampage list: ...</td>\n",
       "      <td>movie actionadventure R</td>\n",
       "      <td>quentintarantino umathurman davidcarradine mic...</td>\n",
       "    </tr>\n",
       "    <tr>\n",
       "      <th>3759</th>\n",
       "      <td>80119555</td>\n",
       "      <td>movie</td>\n",
       "      <td>Blinky Bill: The Movie</td>\n",
       "      <td>deanetaylor</td>\n",
       "      <td>ryankwanten rufussewell tonicollette robinmcle...</td>\n",
       "      <td>australia unitedstates</td>\n",
       "      <td>February 8, 2017</td>\n",
       "      <td>2015</td>\n",
       "      <td>PG</td>\n",
       "      <td>91 min</td>\n",
       "      <td>childrenfamilymovies</td>\n",
       "      <td>happy koala blinky bill and some spunky pals t...</td>\n",
       "      <td>movie childrenfamilymovies PG</td>\n",
       "      <td>deanetaylor ryankwanten rufussewell tonicollet...</td>\n",
       "    </tr>\n",
       "    <tr>\n",
       "      <th>3794</th>\n",
       "      <td>81002591</td>\n",
       "      <td>movie</td>\n",
       "      <td>Billy Graham: An Extraordinary Journey</td>\n",
       "      <td>vondaharrell danielcamenisch</td>\n",
       "      <td>billygraham jeffhoyt tombrokaw gretavansustere...</td>\n",
       "      <td>unitedstates</td>\n",
       "      <td>February 28, 2019</td>\n",
       "      <td>2018</td>\n",
       "      <td>TVPG</td>\n",
       "      <td>66 min</td>\n",
       "      <td>documentaries faithspirituality</td>\n",
       "      <td>this documentary recounts the life story of ev...</td>\n",
       "      <td>movie documentaries faithspirituality TVPG</td>\n",
       "      <td>vondaharrell danielcamenisch billygraham jeffh...</td>\n",
       "    </tr>\n",
       "    <tr>\n",
       "      <th>4009</th>\n",
       "      <td>60003378</td>\n",
       "      <td>movie</td>\n",
       "      <td>Billy Elliot</td>\n",
       "      <td>stephendaldry</td>\n",
       "      <td>jamiebell garylewis stuartwells billyfane coli...</td>\n",
       "      <td>unitedkingdom france</td>\n",
       "      <td>February 1, 2019</td>\n",
       "      <td>2000</td>\n",
       "      <td>R</td>\n",
       "      <td>110 min</td>\n",
       "      <td>dramas independentmovies internationalmovies</td>\n",
       "      <td>when a boy trades boxing school for ballet les...</td>\n",
       "      <td>movie dramas independentmovies internationalmo...</td>\n",
       "      <td>stephendaldry jamiebell garylewis stuartwells ...</td>\n",
       "    </tr>\n",
       "    <tr>\n",
       "      <th>4148</th>\n",
       "      <td>80142615</td>\n",
       "      <td>movie</td>\n",
       "      <td>One in a Billion</td>\n",
       "      <td>romangackowski</td>\n",
       "      <td>satnamsinghbhamara markcuban adamsilver vivekr...</td>\n",
       "      <td>unitedstates</td>\n",
       "      <td>December 6, 2016</td>\n",
       "      <td>2016</td>\n",
       "      <td>TVPG</td>\n",
       "      <td>70 min</td>\n",
       "      <td>documentaries sportsmovies</td>\n",
       "      <td>follow the journey of satnam singh bhamara as ...</td>\n",
       "      <td>movie documentaries sportsmovies TVPG</td>\n",
       "      <td>romangackowski satnamsinghbhamara markcuban ad...</td>\n",
       "    </tr>\n",
       "    <tr>\n",
       "      <th>4160</th>\n",
       "      <td>80004478</td>\n",
       "      <td>movie</td>\n",
       "      <td>Bill Burr: I'm Sorry You Feel That Way</td>\n",
       "      <td>jaykaras</td>\n",
       "      <td>billburr</td>\n",
       "      <td>unitedstates</td>\n",
       "      <td>December 5, 2014</td>\n",
       "      <td>2014</td>\n",
       "      <td>NR</td>\n",
       "      <td>81 min</td>\n",
       "      <td>standupcomedy</td>\n",
       "      <td>bill burr escapes the zombie apocalypse, explo...</td>\n",
       "      <td>movie standupcomedy NR</td>\n",
       "      <td>jaykaras billburr</td>\n",
       "    </tr>\n",
       "    <tr>\n",
       "      <th>4243</th>\n",
       "      <td>81045989</td>\n",
       "      <td>movie</td>\n",
       "      <td>Bill Hicks: One Night Stand</td>\n",
       "      <td>johnfortenberry</td>\n",
       "      <td>billhicks</td>\n",
       "      <td>unitedkingdom</td>\n",
       "      <td>December 31, 2018</td>\n",
       "      <td>1991</td>\n",
       "      <td>TVMA</td>\n",
       "      <td>28 min</td>\n",
       "      <td>standupcomedy</td>\n",
       "      <td>bill hicks remembers a wild night in 1989 and ...</td>\n",
       "      <td>movie standupcomedy TVMA</td>\n",
       "      <td>johnfortenberry billhicks</td>\n",
       "    </tr>\n",
       "    <tr>\n",
       "      <th>4244</th>\n",
       "      <td>81045990</td>\n",
       "      <td>movie</td>\n",
       "      <td>Bill Hicks: Reflections</td>\n",
       "      <td></td>\n",
       "      <td>billhicks stevehicks</td>\n",
       "      <td></td>\n",
       "      <td>December 31, 2018</td>\n",
       "      <td>2015</td>\n",
       "      <td>TVMA</td>\n",
       "      <td>34 min</td>\n",
       "      <td>documentaries</td>\n",
       "      <td>this documentary about comedian bill hicks off...</td>\n",
       "      <td>movie documentaries TVMA</td>\n",
       "      <td>billhicks stevehicks</td>\n",
       "    </tr>\n",
       "    <tr>\n",
       "      <th>4245</th>\n",
       "      <td>70059483</td>\n",
       "      <td>movie</td>\n",
       "      <td>Bill Hicks: Relentless</td>\n",
       "      <td>chrisbould</td>\n",
       "      <td>billhicks</td>\n",
       "      <td>unitedkingdom</td>\n",
       "      <td>December 31, 2018</td>\n",
       "      <td>1992</td>\n",
       "      <td>TVMA</td>\n",
       "      <td>61 min</td>\n",
       "      <td>standupcomedy</td>\n",
       "      <td>in one of his most iconic performances, late c...</td>\n",
       "      <td>movie standupcomedy TVMA</td>\n",
       "      <td>chrisbould billhicks</td>\n",
       "    </tr>\n",
       "    <tr>\n",
       "      <th>4246</th>\n",
       "      <td>80108207</td>\n",
       "      <td>movie</td>\n",
       "      <td>Bill Hicks: Revelations</td>\n",
       "      <td>chrisbould</td>\n",
       "      <td>billhicks</td>\n",
       "      <td>unitedkingdom</td>\n",
       "      <td>December 31, 2018</td>\n",
       "      <td>1993</td>\n",
       "      <td>TVMA</td>\n",
       "      <td>56 min</td>\n",
       "      <td>standupcomedy</td>\n",
       "      <td>in his final recorded special, the iconoclasti...</td>\n",
       "      <td>movie standupcomedy TVMA</td>\n",
       "      <td>chrisbould billhicks</td>\n",
       "    </tr>\n",
       "    <tr>\n",
       "      <th>4247</th>\n",
       "      <td>70043231</td>\n",
       "      <td>movie</td>\n",
       "      <td>Bill Hicks: Sane Man</td>\n",
       "      <td>kevinbooth davidjohndrow</td>\n",
       "      <td>billhicks</td>\n",
       "      <td>unitedstates</td>\n",
       "      <td>December 31, 2018</td>\n",
       "      <td>1989</td>\n",
       "      <td>NR</td>\n",
       "      <td>81 min</td>\n",
       "      <td>standupcomedy</td>\n",
       "      <td>filmed in 1989 at a turning point in comedian ...</td>\n",
       "      <td>movie standupcomedy NR</td>\n",
       "      <td>kevinbooth davidjohndrow billhicks</td>\n",
       "    </tr>\n",
       "    <tr>\n",
       "      <th>4261</th>\n",
       "      <td>81031650</td>\n",
       "      <td>movie</td>\n",
       "      <td>The Bill Murray Stories: Life Lessons Learned ...</td>\n",
       "      <td>tommyavallone</td>\n",
       "      <td>tommyavallone billmurray joelmurray peterfarrelly</td>\n",
       "      <td>unitedstates</td>\n",
       "      <td>December 31, 2018</td>\n",
       "      <td>2018</td>\n",
       "      <td>TVMA</td>\n",
       "      <td>72 min</td>\n",
       "      <td>documentaries</td>\n",
       "      <td>this documentary highlights spontaneous encoun...</td>\n",
       "      <td>movie documentaries TVMA</td>\n",
       "      <td>tommyavallone tommyavallone billmurray joelmur...</td>\n",
       "    </tr>\n",
       "    <tr>\n",
       "      <th>4498</th>\n",
       "      <td>81213153</td>\n",
       "      <td>movie</td>\n",
       "      <td>Hope: One in a Billion</td>\n",
       "      <td>brodjewemboendja</td>\n",
       "      <td>giftngoepe</td>\n",
       "      <td>unitedstates southafrica</td>\n",
       "      <td>December 15, 2019</td>\n",
       "      <td>2017</td>\n",
       "      <td>TV14</td>\n",
       "      <td>81 min</td>\n",
       "      <td>documentaries internationalmovies sportsmovies</td>\n",
       "      <td>the remarkable true story of gift ngoepe, the ...</td>\n",
       "      <td>movie documentaries internationalmovies sports...</td>\n",
       "      <td>brodjewemboendja giftngoepe</td>\n",
       "    </tr>\n",
       "    <tr>\n",
       "      <th>5305</th>\n",
       "      <td>80182411</td>\n",
       "      <td>movie</td>\n",
       "      <td>Bill Nye: Science Guy</td>\n",
       "      <td>jasonsussberg davidalvarado</td>\n",
       "      <td>billnye neildegrassetyson eugeniescott francis...</td>\n",
       "      <td>unitedstates</td>\n",
       "      <td>April 25, 2018</td>\n",
       "      <td>2017</td>\n",
       "      <td>TVPG</td>\n",
       "      <td>97 min</td>\n",
       "      <td>documentaries</td>\n",
       "      <td>the dynamic, bow-tied host behind the young ad...</td>\n",
       "      <td>movie documentaries TVPG</td>\n",
       "      <td>jasonsussberg davidalvarado billnye neildegras...</td>\n",
       "    </tr>\n",
       "    <tr>\n",
       "      <th>5310</th>\n",
       "      <td>80106337</td>\n",
       "      <td>movie</td>\n",
       "      <td>The 101-Year-Old Man Who Skipped Out on the Bi...</td>\n",
       "      <td>felixherngren månsherngren</td>\n",
       "      <td>robertgustafsson jenshultén carolineboulton co...</td>\n",
       "      <td>sweden</td>\n",
       "      <td>April 25, 2017</td>\n",
       "      <td>2016</td>\n",
       "      <td>TVMA</td>\n",
       "      <td>108 min</td>\n",
       "      <td>comedies internationalmovies</td>\n",
       "      <td>in need of money, an eccentric ex-spy and his ...</td>\n",
       "      <td>movie comedies internationalmovies TVMA</td>\n",
       "      <td>felixherngren månsherngren robertgustafsson je...</td>\n",
       "    </tr>\n",
       "    <tr>\n",
       "      <th>5500</th>\n",
       "      <td>80987611</td>\n",
       "      <td>movie</td>\n",
       "      <td>A Billion Colour Story</td>\n",
       "      <td>padmakumarnarasimhamurthy</td>\n",
       "      <td>dhruvapadmakumar gauravsharma vasuki</td>\n",
       "      <td>india</td>\n",
       "      <td>April 1, 2018</td>\n",
       "      <td>2016</td>\n",
       "      <td>TVPG</td>\n",
       "      <td>104 min</td>\n",
       "      <td>dramas independentmovies internationalmovies</td>\n",
       "      <td>the curious child of idealistic interfaith par...</td>\n",
       "      <td>movie dramas independentmovies internationalmo...</td>\n",
       "      <td>padmakumarnarasimhamurthy dhruvapadmakumar gau...</td>\n",
       "    </tr>\n",
       "    <tr>\n",
       "      <th>5513</th>\n",
       "      <td>70115621</td>\n",
       "      <td>movie</td>\n",
       "      <td>Billu</td>\n",
       "      <td>priyadarshan</td>\n",
       "      <td>irrfankhan shahrukhkhan laradutta rajpalyadav ...</td>\n",
       "      <td>india</td>\n",
       "      <td>April 1, 2018</td>\n",
       "      <td>2009</td>\n",
       "      <td>TVPG</td>\n",
       "      <td>132 min</td>\n",
       "      <td>dramas internationalmovies</td>\n",
       "      <td>an indian village is abuzz with news that a ma...</td>\n",
       "      <td>movie dramas internationalmovies TVPG</td>\n",
       "      <td>priyadarshan irrfankhan shahrukhkhan laradutta...</td>\n",
       "    </tr>\n",
       "    <tr>\n",
       "      <th>5759</th>\n",
       "      <td>81183624</td>\n",
       "      <td>tvshow</td>\n",
       "      <td>Billy on the Street</td>\n",
       "      <td></td>\n",
       "      <td>billyeichner</td>\n",
       "      <td>unitedstates</td>\n",
       "      <td>November 1, 2019</td>\n",
       "      <td>2016</td>\n",
       "      <td>TV14</td>\n",
       "      <td>4 Seasons</td>\n",
       "      <td>internationaltvshows realitytv tvcomedies</td>\n",
       "      <td>comedian billy eichner sprints through new yor...</td>\n",
       "      <td>tvshow internationaltvshows realitytv tvcomedi...</td>\n",
       "      <td>billyeichner</td>\n",
       "    </tr>\n",
       "    <tr>\n",
       "      <th>5817</th>\n",
       "      <td>80117748</td>\n",
       "      <td>tvshow</td>\n",
       "      <td>Bill Nye Saves the World</td>\n",
       "      <td></td>\n",
       "      <td>billnye karliekloss derekmuller emilycalandrel...</td>\n",
       "      <td>unitedstates</td>\n",
       "      <td>May 11, 2018</td>\n",
       "      <td>2018</td>\n",
       "      <td>TV14</td>\n",
       "      <td>3 Seasons</td>\n",
       "      <td>standupcomedytalkshows</td>\n",
       "      <td>emmy-winning host bill nye brings experts and ...</td>\n",
       "      <td>tvshow standupcomedytalkshows TV14</td>\n",
       "      <td>billnye karliekloss derekmuller emilycalandre...</td>\n",
       "    </tr>\n",
       "  </tbody>\n",
       "</table>\n",
       "</div>"
      ],
      "text/plain": [
       "       show_id    type                                              title  \\\n",
       "160   80184771  tvshow           Inside Bill's Brain: Decoding Bill Gates   \n",
       "293   81060174   movie                             Bill Burr: Paper Tiger   \n",
       "1335  70174733   movie                               Bill Burr: Let It Go   \n",
       "2485  70245034   movie             Bill Burr: You People Are All the Same   \n",
       "3237  80133549   movie                       Bill Burr: Walk Your Way Out   \n",
       "3530  60031236   movie                                  Kill Bill: Vol. 1   \n",
       "3531  60032563   movie                                  Kill Bill: Vol. 2   \n",
       "3759  80119555   movie                             Blinky Bill: The Movie   \n",
       "3794  81002591   movie             Billy Graham: An Extraordinary Journey   \n",
       "4009  60003378   movie                                       Billy Elliot   \n",
       "4148  80142615   movie                                   One in a Billion   \n",
       "4160  80004478   movie             Bill Burr: I'm Sorry You Feel That Way   \n",
       "4243  81045989   movie                        Bill Hicks: One Night Stand   \n",
       "4244  81045990   movie                            Bill Hicks: Reflections   \n",
       "4245  70059483   movie                             Bill Hicks: Relentless   \n",
       "4246  80108207   movie                            Bill Hicks: Revelations   \n",
       "4247  70043231   movie                               Bill Hicks: Sane Man   \n",
       "4261  81031650   movie  The Bill Murray Stories: Life Lessons Learned ...   \n",
       "4498  81213153   movie                             Hope: One in a Billion   \n",
       "5305  80182411   movie                              Bill Nye: Science Guy   \n",
       "5310  80106337   movie  The 101-Year-Old Man Who Skipped Out on the Bi...   \n",
       "5500  80987611   movie                             A Billion Colour Story   \n",
       "5513  70115621   movie                                              Billu   \n",
       "5759  81183624  tvshow                                Billy on the Street   \n",
       "5817  80117748  tvshow                           Bill Nye Saves the World   \n",
       "\n",
       "                          director  \\\n",
       "160                                  \n",
       "293                     mikebinder   \n",
       "1335                shannonhartman   \n",
       "2485                      jaykaras   \n",
       "3237                      jaykaras   \n",
       "3530              quentintarantino   \n",
       "3531              quentintarantino   \n",
       "3759                   deanetaylor   \n",
       "3794  vondaharrell danielcamenisch   \n",
       "4009                 stephendaldry   \n",
       "4148                romangackowski   \n",
       "4160                      jaykaras   \n",
       "4243               johnfortenberry   \n",
       "4244                                 \n",
       "4245                    chrisbould   \n",
       "4246                    chrisbould   \n",
       "4247      kevinbooth davidjohndrow   \n",
       "4261                 tommyavallone   \n",
       "4498              brodjewemboendja   \n",
       "5305   jasonsussberg davidalvarado   \n",
       "5310    felixherngren månsherngren   \n",
       "5500     padmakumarnarasimhamurthy   \n",
       "5513                  priyadarshan   \n",
       "5759                                 \n",
       "5817                                 \n",
       "\n",
       "                                                   cast  \\\n",
       "160                                           billgates   \n",
       "293                                            billburr   \n",
       "1335                                           billburr   \n",
       "2485                                           billburr   \n",
       "3237                                           billburr   \n",
       "3530  umathurman lucyliu vivicaafox darylhannah davi...   \n",
       "3531  umathurman davidcarradine michaelmadsen darylh...   \n",
       "3759  ryankwanten rufussewell tonicollette robinmcle...   \n",
       "3794  billygraham jeffhoyt tombrokaw gretavansustere...   \n",
       "4009  jamiebell garylewis stuartwells billyfane coli...   \n",
       "4148  satnamsinghbhamara markcuban adamsilver vivekr...   \n",
       "4160                                           billburr   \n",
       "4243                                          billhicks   \n",
       "4244                               billhicks stevehicks   \n",
       "4245                                          billhicks   \n",
       "4246                                          billhicks   \n",
       "4247                                          billhicks   \n",
       "4261  tommyavallone billmurray joelmurray peterfarrelly   \n",
       "4498                                         giftngoepe   \n",
       "5305  billnye neildegrassetyson eugeniescott francis...   \n",
       "5310  robertgustafsson jenshultén carolineboulton co...   \n",
       "5500               dhruvapadmakumar gauravsharma vasuki   \n",
       "5513  irrfankhan shahrukhkhan laradutta rajpalyadav ...   \n",
       "5759                                       billyeichner   \n",
       "5817  billnye karliekloss derekmuller emilycalandrel...   \n",
       "\n",
       "                         country          date_added  release_year rating  \\\n",
       "160                 unitedstates  September 20, 2019          2019   TV14   \n",
       "293   unitedstates unitedkingdom  September 10, 2019          2019   TVMA   \n",
       "1335                unitedstates   November 10, 2017          2010     NR   \n",
       "2485                unitedstates       June 30, 2018          2012     NR   \n",
       "3237                unitedstates    January 31, 2017          2017   TVMA   \n",
       "3530          unitedstates japan     January 1, 2020          2003      R   \n",
       "3531                unitedstates     January 1, 2020          2004      R   \n",
       "3759      australia unitedstates    February 8, 2017          2015     PG   \n",
       "3794                unitedstates   February 28, 2019          2018   TVPG   \n",
       "4009        unitedkingdom france    February 1, 2019          2000      R   \n",
       "4148                unitedstates    December 6, 2016          2016   TVPG   \n",
       "4160                unitedstates    December 5, 2014          2014     NR   \n",
       "4243               unitedkingdom   December 31, 2018          1991   TVMA   \n",
       "4244                               December 31, 2018          2015   TVMA   \n",
       "4245               unitedkingdom   December 31, 2018          1992   TVMA   \n",
       "4246               unitedkingdom   December 31, 2018          1993   TVMA   \n",
       "4247                unitedstates   December 31, 2018          1989     NR   \n",
       "4261                unitedstates   December 31, 2018          2018   TVMA   \n",
       "4498    unitedstates southafrica   December 15, 2019          2017   TV14   \n",
       "5305                unitedstates      April 25, 2018          2017   TVPG   \n",
       "5310                      sweden      April 25, 2017          2016   TVMA   \n",
       "5500                       india       April 1, 2018          2016   TVPG   \n",
       "5513                       india       April 1, 2018          2009   TVPG   \n",
       "5759                unitedstates    November 1, 2019          2016   TV14   \n",
       "5817                unitedstates        May 11, 2018          2018   TV14   \n",
       "\n",
       "       duration                                       listed_in  \\\n",
       "160    1 Season                      docuseries sciencenaturetv   \n",
       "293      67 min                                   standupcomedy   \n",
       "1335     65 min                                   standupcomedy   \n",
       "2485     69 min                                   standupcomedy   \n",
       "3237     78 min                                   standupcomedy   \n",
       "3530    111 min                                 actionadventure   \n",
       "3531    137 min                                 actionadventure   \n",
       "3759     91 min                            childrenfamilymovies   \n",
       "3794     66 min                 documentaries faithspirituality   \n",
       "4009    110 min    dramas independentmovies internationalmovies   \n",
       "4148     70 min                      documentaries sportsmovies   \n",
       "4160     81 min                                   standupcomedy   \n",
       "4243     28 min                                   standupcomedy   \n",
       "4244     34 min                                   documentaries   \n",
       "4245     61 min                                   standupcomedy   \n",
       "4246     56 min                                   standupcomedy   \n",
       "4247     81 min                                   standupcomedy   \n",
       "4261     72 min                                   documentaries   \n",
       "4498     81 min  documentaries internationalmovies sportsmovies   \n",
       "5305     97 min                                   documentaries   \n",
       "5310    108 min                    comedies internationalmovies   \n",
       "5500    104 min    dramas independentmovies internationalmovies   \n",
       "5513    132 min                      dramas internationalmovies   \n",
       "5759  4 Seasons       internationaltvshows realitytv tvcomedies   \n",
       "5817  3 Seasons                          standupcomedytalkshows   \n",
       "\n",
       "                                            description  \\\n",
       "160   take a trip inside the mind of bill gates as t...   \n",
       "293   bill burr unloads on outrage culture, male fem...   \n",
       "1335  the musings of comedian bill burr are let loos...   \n",
       "2485  funnyman bill burr takes the stage to uncork a...   \n",
       "3237  no-nonsense comic bill burr takes the stage in...   \n",
       "3530  an assassin is shot by her ruthless employer, ...   \n",
       "3531  the bride has three left on her rampage list: ...   \n",
       "3759  happy koala blinky bill and some spunky pals t...   \n",
       "3794  this documentary recounts the life story of ev...   \n",
       "4009  when a boy trades boxing school for ballet les...   \n",
       "4148  follow the journey of satnam singh bhamara as ...   \n",
       "4160  bill burr escapes the zombie apocalypse, explo...   \n",
       "4243  bill hicks remembers a wild night in 1989 and ...   \n",
       "4244  this documentary about comedian bill hicks off...   \n",
       "4245  in one of his most iconic performances, late c...   \n",
       "4246  in his final recorded special, the iconoclasti...   \n",
       "4247  filmed in 1989 at a turning point in comedian ...   \n",
       "4261  this documentary highlights spontaneous encoun...   \n",
       "4498  the remarkable true story of gift ngoepe, the ...   \n",
       "5305  the dynamic, bow-tied host behind the young ad...   \n",
       "5310  in need of money, an eccentric ex-spy and his ...   \n",
       "5500  the curious child of idealistic interfaith par...   \n",
       "5513  an indian village is abuzz with news that a ma...   \n",
       "5759  comedian billy eichner sprints through new yor...   \n",
       "5817  emmy-winning host bill nye brings experts and ...   \n",
       "\n",
       "                                                  ganre  \\\n",
       "160              tvshow docuseries sciencenaturetv TV14   \n",
       "293                            movie standupcomedy TVMA   \n",
       "1335                             movie standupcomedy NR   \n",
       "2485                             movie standupcomedy NR   \n",
       "3237                           movie standupcomedy TVMA   \n",
       "3530                            movie actionadventure R   \n",
       "3531                            movie actionadventure R   \n",
       "3759                      movie childrenfamilymovies PG   \n",
       "3794         movie documentaries faithspirituality TVPG   \n",
       "4009  movie dramas independentmovies internationalmo...   \n",
       "4148              movie documentaries sportsmovies TVPG   \n",
       "4160                             movie standupcomedy NR   \n",
       "4243                           movie standupcomedy TVMA   \n",
       "4244                           movie documentaries TVMA   \n",
       "4245                           movie standupcomedy TVMA   \n",
       "4246                           movie standupcomedy TVMA   \n",
       "4247                             movie standupcomedy NR   \n",
       "4261                           movie documentaries TVMA   \n",
       "4498  movie documentaries internationalmovies sports...   \n",
       "5305                           movie documentaries TVPG   \n",
       "5310            movie comedies internationalmovies TVMA   \n",
       "5500  movie dramas independentmovies internationalmo...   \n",
       "5513              movie dramas internationalmovies TVPG   \n",
       "5759  tvshow internationaltvshows realitytv tvcomedi...   \n",
       "5817                 tvshow standupcomedytalkshows TV14   \n",
       "\n",
       "                                                   team  \n",
       "160                                           billgates  \n",
       "293                                 mikebinder billburr  \n",
       "1335                            shannonhartman billburr  \n",
       "2485                                  jaykaras billburr  \n",
       "3237                                  jaykaras billburr  \n",
       "3530  quentintarantino umathurman lucyliu vivicaafox...  \n",
       "3531  quentintarantino umathurman davidcarradine mic...  \n",
       "3759  deanetaylor ryankwanten rufussewell tonicollet...  \n",
       "3794  vondaharrell danielcamenisch billygraham jeffh...  \n",
       "4009  stephendaldry jamiebell garylewis stuartwells ...  \n",
       "4148  romangackowski satnamsinghbhamara markcuban ad...  \n",
       "4160                                  jaykaras billburr  \n",
       "4243                          johnfortenberry billhicks  \n",
       "4244                               billhicks stevehicks  \n",
       "4245                               chrisbould billhicks  \n",
       "4246                               chrisbould billhicks  \n",
       "4247                 kevinbooth davidjohndrow billhicks  \n",
       "4261  tommyavallone tommyavallone billmurray joelmur...  \n",
       "4498                        brodjewemboendja giftngoepe  \n",
       "5305  jasonsussberg davidalvarado billnye neildegras...  \n",
       "5310  felixherngren månsherngren robertgustafsson je...  \n",
       "5500  padmakumarnarasimhamurthy dhruvapadmakumar gau...  \n",
       "5513  priyadarshan irrfankhan shahrukhkhan laradutta...  \n",
       "5759                                       billyeichner  \n",
       "5817   billnye karliekloss derekmuller emilycalandre...  "
      ]
     },
     "execution_count": 16,
     "metadata": {},
     "output_type": "execute_result"
    }
   ],
   "source": [
    "# quick find function\n",
    "filt = raw_data['title'].str.find('Bill')>=0\n",
    "raw_data.loc[filt]"
   ]
  },
  {
   "cell_type": "code",
   "execution_count": 17,
   "metadata": {
    "collapsed": false,
    "jupyter": {
     "outputs_hidden": false
    },
    "pycharm": {
     "name": "#%%\n"
    }
   },
   "outputs": [],
   "source": [
    "stocked_data = pd.DataFrame(cosine_sim).stack()\n",
    "\n",
    "df = pd.DataFrame(cosine_sim)\n",
    "df = df.where(np.triu(np.ones(df.shape)).astype(np.bool)) # take only right upper part of matrix(because data are doubled)"
   ]
  },
  {
   "cell_type": "code",
   "execution_count": 18,
   "metadata": {
    "collapsed": false,
    "jupyter": {
     "outputs_hidden": false
    },
    "pycharm": {
     "name": "#%%\n"
    }
   },
   "outputs": [
    {
     "data": {
      "text/html": [
       "<div>\n",
       "<style scoped>\n",
       "    .dataframe tbody tr th:only-of-type {\n",
       "        vertical-align: middle;\n",
       "    }\n",
       "\n",
       "    .dataframe tbody tr th {\n",
       "        vertical-align: top;\n",
       "    }\n",
       "\n",
       "    .dataframe thead th {\n",
       "        text-align: right;\n",
       "    }\n",
       "</style>\n",
       "<table border=\"1\" class=\"dataframe\">\n",
       "  <thead>\n",
       "    <tr style=\"text-align: right;\">\n",
       "      <th></th>\n",
       "      <th>index_1</th>\n",
       "      <th>index_2</th>\n",
       "      <th>Value</th>\n",
       "    </tr>\n",
       "  </thead>\n",
       "  <tbody>\n",
       "    <tr>\n",
       "      <th>0</th>\n",
       "      <td>0</td>\n",
       "      <td>0</td>\n",
       "      <td>6.000000</td>\n",
       "    </tr>\n",
       "    <tr>\n",
       "      <th>1</th>\n",
       "      <td>0</td>\n",
       "      <td>1</td>\n",
       "      <td>0.615420</td>\n",
       "    </tr>\n",
       "    <tr>\n",
       "      <th>2</th>\n",
       "      <td>0</td>\n",
       "      <td>2</td>\n",
       "      <td>0.534280</td>\n",
       "    </tr>\n",
       "    <tr>\n",
       "      <th>3</th>\n",
       "      <td>0</td>\n",
       "      <td>3</td>\n",
       "      <td>0.500000</td>\n",
       "    </tr>\n",
       "    <tr>\n",
       "      <th>4</th>\n",
       "      <td>0</td>\n",
       "      <td>4</td>\n",
       "      <td>1.693421</td>\n",
       "    </tr>\n",
       "  </tbody>\n",
       "</table>\n",
       "</div>"
      ],
      "text/plain": [
       "   index_1  index_2     Value\n",
       "0        0        0  6.000000\n",
       "1        0        1  0.615420\n",
       "2        0        2  0.534280\n",
       "3        0        3  0.500000\n",
       "4        0        4  1.693421"
      ]
     },
     "execution_count": 18,
     "metadata": {},
     "output_type": "execute_result"
    }
   ],
   "source": [
    "stacked = df.stack().reset_index()\n",
    "stacked.columns = ['index_1','index_2','Value']\n",
    "stacked.head()"
   ]
  },
  {
   "cell_type": "code",
   "execution_count": 19,
   "metadata": {
    "collapsed": false,
    "jupyter": {
     "outputs_hidden": false
    },
    "pycharm": {
     "name": "#%%\n"
    }
   },
   "outputs": [
    {
     "name": "stderr",
     "output_type": "stream",
     "text": [
      "<ipython-input-19-80811137ac95>:1: SettingWithCopyWarning: \n",
      "A value is trying to be set on a copy of a slice from a DataFrame.\n",
      "Try using .loc[row_indexer,col_indexer] = value instead\n",
      "\n",
      "See the caveats in the documentation: https://pandas.pydata.org/pandas-docs/stable/user_guide/indexing.html#returning-a-view-versus-a-copy\n",
      "  final_data['index'] = final_data.index\n"
     ]
    },
    {
     "data": {
      "text/html": [
       "<div>\n",
       "<style scoped>\n",
       "    .dataframe tbody tr th:only-of-type {\n",
       "        vertical-align: middle;\n",
       "    }\n",
       "\n",
       "    .dataframe tbody tr th {\n",
       "        vertical-align: top;\n",
       "    }\n",
       "\n",
       "    .dataframe thead th {\n",
       "        text-align: right;\n",
       "    }\n",
       "</style>\n",
       "<table border=\"1\" class=\"dataframe\">\n",
       "  <thead>\n",
       "    <tr style=\"text-align: right;\">\n",
       "      <th></th>\n",
       "      <th>show_id</th>\n",
       "      <th>title</th>\n",
       "      <th>description</th>\n",
       "      <th>team</th>\n",
       "      <th>ganre</th>\n",
       "      <th>country</th>\n",
       "      <th>BoW_all</th>\n",
       "      <th>index</th>\n",
       "    </tr>\n",
       "  </thead>\n",
       "  <tbody>\n",
       "    <tr>\n",
       "      <th>0</th>\n",
       "      <td>81145628</td>\n",
       "      <td>Norm of the North: King Sized Adventure</td>\n",
       "      <td>before planning an awesome wedding for his gra...</td>\n",
       "      <td>richardfinn timmaltby alanmarriott andrewtoth ...</td>\n",
       "      <td>movie childrenfamilymovies comedies TVPG</td>\n",
       "      <td>unitedstates india southkorea china</td>\n",
       "      <td>unitedstates india southkorea china before pla...</td>\n",
       "      <td>0</td>\n",
       "    </tr>\n",
       "    <tr>\n",
       "      <th>1</th>\n",
       "      <td>80117401</td>\n",
       "      <td>Jandino: Whatever it Takes</td>\n",
       "      <td>jandino asporaat riffs on the challenges of ra...</td>\n",
       "      <td>jandinoasporaat</td>\n",
       "      <td>movie standupcomedy TVMA</td>\n",
       "      <td>unitedkingdom</td>\n",
       "      <td>unitedkingdom jandino asporaat riffs on the ch...</td>\n",
       "      <td>1</td>\n",
       "    </tr>\n",
       "    <tr>\n",
       "      <th>2</th>\n",
       "      <td>70234439</td>\n",
       "      <td>Transformers Prime</td>\n",
       "      <td>with the help of three human allies, the autob...</td>\n",
       "      <td>petercullen sumaleemontano frankwelker jeffre...</td>\n",
       "      <td>tvshow kidstv TVY7FV</td>\n",
       "      <td>unitedstates</td>\n",
       "      <td>unitedstates with the help of three human alli...</td>\n",
       "      <td>2</td>\n",
       "    </tr>\n",
       "    <tr>\n",
       "      <th>3</th>\n",
       "      <td>80058654</td>\n",
       "      <td>Transformers: Robots in Disguise</td>\n",
       "      <td>when a prison ship crash unleashes hundreds of...</td>\n",
       "      <td>willfriedle darrencriss constancezimmer khary...</td>\n",
       "      <td>tvshow kidstv TVY7</td>\n",
       "      <td>unitedstates</td>\n",
       "      <td>unitedstates when a prison ship crash unleashe...</td>\n",
       "      <td>3</td>\n",
       "    </tr>\n",
       "    <tr>\n",
       "      <th>4</th>\n",
       "      <td>80125979</td>\n",
       "      <td>#realityhigh</td>\n",
       "      <td>when nerdy high schooler dani finally attracts...</td>\n",
       "      <td>fernandolebrija nestacooper katewalsh johnmich...</td>\n",
       "      <td>movie comedies TV14</td>\n",
       "      <td>unitedstates</td>\n",
       "      <td>unitedstates when nerdy high schooler dani fin...</td>\n",
       "      <td>4</td>\n",
       "    </tr>\n",
       "  </tbody>\n",
       "</table>\n",
       "</div>"
      ],
      "text/plain": [
       "    show_id                                    title  \\\n",
       "0  81145628  Norm of the North: King Sized Adventure   \n",
       "1  80117401               Jandino: Whatever it Takes   \n",
       "2  70234439                       Transformers Prime   \n",
       "3  80058654         Transformers: Robots in Disguise   \n",
       "4  80125979                             #realityhigh   \n",
       "\n",
       "                                         description  \\\n",
       "0  before planning an awesome wedding for his gra...   \n",
       "1  jandino asporaat riffs on the challenges of ra...   \n",
       "2  with the help of three human allies, the autob...   \n",
       "3  when a prison ship crash unleashes hundreds of...   \n",
       "4  when nerdy high schooler dani finally attracts...   \n",
       "\n",
       "                                                team  \\\n",
       "0  richardfinn timmaltby alanmarriott andrewtoth ...   \n",
       "1                                    jandinoasporaat   \n",
       "2   petercullen sumaleemontano frankwelker jeffre...   \n",
       "3   willfriedle darrencriss constancezimmer khary...   \n",
       "4  fernandolebrija nestacooper katewalsh johnmich...   \n",
       "\n",
       "                                      ganre  \\\n",
       "0  movie childrenfamilymovies comedies TVPG   \n",
       "1                  movie standupcomedy TVMA   \n",
       "2                      tvshow kidstv TVY7FV   \n",
       "3                        tvshow kidstv TVY7   \n",
       "4                       movie comedies TV14   \n",
       "\n",
       "                               country  \\\n",
       "0  unitedstates india southkorea china   \n",
       "1                        unitedkingdom   \n",
       "2                         unitedstates   \n",
       "3                         unitedstates   \n",
       "4                         unitedstates   \n",
       "\n",
       "                                             BoW_all  index  \n",
       "0  unitedstates india southkorea china before pla...      0  \n",
       "1  unitedkingdom jandino asporaat riffs on the ch...      1  \n",
       "2  unitedstates with the help of three human alli...      2  \n",
       "3  unitedstates when a prison ship crash unleashe...      3  \n",
       "4  unitedstates when nerdy high schooler dani fin...      4  "
      ]
     },
     "execution_count": 19,
     "metadata": {},
     "output_type": "execute_result"
    }
   ],
   "source": [
    "final_data['index'] = final_data.index\n",
    "final_data.head()"
   ]
  },
  {
   "cell_type": "code",
   "execution_count": 20,
   "metadata": {
    "collapsed": false,
    "jupyter": {
     "outputs_hidden": false
    },
    "pycharm": {
     "name": "#%%\n"
    }
   },
   "outputs": [],
   "source": [
    "SEQUENCE_LENGTH = 20 # the length of all sequences (number of words per sample)\n",
    "EMBEDDING_SIZE = 100  # Using 100-Dimensional GloVe embedding vectors\n",
    "TEST_SIZE = 0.25 # ratio of testing set\n",
    "\n",
    "BATCH_SIZE = 64\n",
    "EPOCHS = 20 # number of epochs"
   ]
  },
  {
   "cell_type": "code",
   "execution_count": 21,
   "metadata": {
    "collapsed": false,
    "jupyter": {
     "outputs_hidden": false
    },
    "pycharm": {
     "name": "#%%\n"
    }
   },
   "outputs": [],
   "source": [
    "import pandas as pd\n",
    "import numpy as np\n",
    "from gensim.models import Word2Vec\n",
    "\n",
    "import tqdm\n",
    "from sklearn.metrics import precision_score, f1_score, recall_score, accuracy_score\n",
    "from keras.preprocessing.text import Tokenizer\n",
    "from keras.preprocessing.sequence import  pad_sequences\n",
    "from keras.layers import Embedding, Dropout, Dense, LSTM\n",
    "from keras.models import Sequential\n",
    "from keras.utils import to_categorical\n",
    "from keras.callbacks import ModelCheckpoint, TensorBoard\n",
    "from sklearn.model_selection import train_test_split\n",
    "import time\n",
    "import pickle"
   ]
  },
  {
   "cell_type": "code",
   "execution_count": 22,
   "metadata": {
    "collapsed": false,
    "jupyter": {
     "outputs_hidden": false
    },
    "pycharm": {
     "name": "#%%\n"
    }
   },
   "outputs": [
    {
     "data": {
      "text/html": [
       "<div>\n",
       "<style scoped>\n",
       "    .dataframe tbody tr th:only-of-type {\n",
       "        vertical-align: middle;\n",
       "    }\n",
       "\n",
       "    .dataframe tbody tr th {\n",
       "        vertical-align: top;\n",
       "    }\n",
       "\n",
       "    .dataframe thead th {\n",
       "        text-align: right;\n",
       "    }\n",
       "</style>\n",
       "<table border=\"1\" class=\"dataframe\">\n",
       "  <thead>\n",
       "    <tr style=\"text-align: right;\">\n",
       "      <th></th>\n",
       "      <th>show_id</th>\n",
       "      <th>type</th>\n",
       "      <th>title</th>\n",
       "      <th>director</th>\n",
       "      <th>cast</th>\n",
       "      <th>country</th>\n",
       "      <th>date_added</th>\n",
       "      <th>release_year</th>\n",
       "      <th>rating</th>\n",
       "      <th>duration</th>\n",
       "      <th>listed_in</th>\n",
       "      <th>description</th>\n",
       "      <th>ganre</th>\n",
       "      <th>team</th>\n",
       "    </tr>\n",
       "  </thead>\n",
       "  <tbody>\n",
       "    <tr>\n",
       "      <th>0</th>\n",
       "      <td>81145628</td>\n",
       "      <td>movie</td>\n",
       "      <td>Norm of the North: King Sized Adventure</td>\n",
       "      <td>richardfinn timmaltby</td>\n",
       "      <td>alanmarriott andrewtoth briandobson colehoward...</td>\n",
       "      <td>unitedstates india southkorea china</td>\n",
       "      <td>September 9, 2019</td>\n",
       "      <td>2019</td>\n",
       "      <td>TVPG</td>\n",
       "      <td>90 min</td>\n",
       "      <td>childrenfamilymovies comedies</td>\n",
       "      <td>before planning an awesome wedding for his gra...</td>\n",
       "      <td>movie childrenfamilymovies comedies TVPG</td>\n",
       "      <td>richardfinn timmaltby alanmarriott andrewtoth ...</td>\n",
       "    </tr>\n",
       "    <tr>\n",
       "      <th>1</th>\n",
       "      <td>80117401</td>\n",
       "      <td>movie</td>\n",
       "      <td>Jandino: Whatever it Takes</td>\n",
       "      <td></td>\n",
       "      <td>jandinoasporaat</td>\n",
       "      <td>unitedkingdom</td>\n",
       "      <td>September 9, 2016</td>\n",
       "      <td>2016</td>\n",
       "      <td>TVMA</td>\n",
       "      <td>94 min</td>\n",
       "      <td>standupcomedy</td>\n",
       "      <td>jandino asporaat riffs on the challenges of ra...</td>\n",
       "      <td>movie standupcomedy TVMA</td>\n",
       "      <td>jandinoasporaat</td>\n",
       "    </tr>\n",
       "    <tr>\n",
       "      <th>2</th>\n",
       "      <td>70234439</td>\n",
       "      <td>tvshow</td>\n",
       "      <td>Transformers Prime</td>\n",
       "      <td></td>\n",
       "      <td>petercullen sumaleemontano frankwelker jeffrey...</td>\n",
       "      <td>unitedstates</td>\n",
       "      <td>September 8, 2018</td>\n",
       "      <td>2013</td>\n",
       "      <td>TVY7FV</td>\n",
       "      <td>1 Season</td>\n",
       "      <td>kidstv</td>\n",
       "      <td>with the help of three human allies, the autob...</td>\n",
       "      <td>tvshow kidstv TVY7FV</td>\n",
       "      <td>petercullen sumaleemontano frankwelker jeffre...</td>\n",
       "    </tr>\n",
       "    <tr>\n",
       "      <th>3</th>\n",
       "      <td>80058654</td>\n",
       "      <td>tvshow</td>\n",
       "      <td>Transformers: Robots in Disguise</td>\n",
       "      <td></td>\n",
       "      <td>willfriedle darrencriss constancezimmer kharyp...</td>\n",
       "      <td>unitedstates</td>\n",
       "      <td>September 8, 2018</td>\n",
       "      <td>2016</td>\n",
       "      <td>TVY7</td>\n",
       "      <td>1 Season</td>\n",
       "      <td>kidstv</td>\n",
       "      <td>when a prison ship crash unleashes hundreds of...</td>\n",
       "      <td>tvshow kidstv TVY7</td>\n",
       "      <td>willfriedle darrencriss constancezimmer khary...</td>\n",
       "    </tr>\n",
       "    <tr>\n",
       "      <th>4</th>\n",
       "      <td>80125979</td>\n",
       "      <td>movie</td>\n",
       "      <td>#realityhigh</td>\n",
       "      <td>fernandolebrija</td>\n",
       "      <td>nestacooper katewalsh johnmichaelhiggins keith...</td>\n",
       "      <td>unitedstates</td>\n",
       "      <td>September 8, 2017</td>\n",
       "      <td>2017</td>\n",
       "      <td>TV14</td>\n",
       "      <td>99 min</td>\n",
       "      <td>comedies</td>\n",
       "      <td>when nerdy high schooler dani finally attracts...</td>\n",
       "      <td>movie comedies TV14</td>\n",
       "      <td>fernandolebrija nestacooper katewalsh johnmich...</td>\n",
       "    </tr>\n",
       "  </tbody>\n",
       "</table>\n",
       "</div>"
      ],
      "text/plain": [
       "    show_id    type                                    title  \\\n",
       "0  81145628   movie  Norm of the North: King Sized Adventure   \n",
       "1  80117401   movie               Jandino: Whatever it Takes   \n",
       "2  70234439  tvshow                       Transformers Prime   \n",
       "3  80058654  tvshow         Transformers: Robots in Disguise   \n",
       "4  80125979   movie                             #realityhigh   \n",
       "\n",
       "                director                                               cast  \\\n",
       "0  richardfinn timmaltby  alanmarriott andrewtoth briandobson colehoward...   \n",
       "1                                                           jandinoasporaat   \n",
       "2                         petercullen sumaleemontano frankwelker jeffrey...   \n",
       "3                         willfriedle darrencriss constancezimmer kharyp...   \n",
       "4        fernandolebrija  nestacooper katewalsh johnmichaelhiggins keith...   \n",
       "\n",
       "                               country         date_added  release_year  \\\n",
       "0  unitedstates india southkorea china  September 9, 2019          2019   \n",
       "1                        unitedkingdom  September 9, 2016          2016   \n",
       "2                         unitedstates  September 8, 2018          2013   \n",
       "3                         unitedstates  September 8, 2018          2016   \n",
       "4                         unitedstates  September 8, 2017          2017   \n",
       "\n",
       "   rating  duration                      listed_in  \\\n",
       "0    TVPG    90 min  childrenfamilymovies comedies   \n",
       "1    TVMA    94 min                  standupcomedy   \n",
       "2  TVY7FV  1 Season                         kidstv   \n",
       "3    TVY7  1 Season                         kidstv   \n",
       "4    TV14    99 min                       comedies   \n",
       "\n",
       "                                         description  \\\n",
       "0  before planning an awesome wedding for his gra...   \n",
       "1  jandino asporaat riffs on the challenges of ra...   \n",
       "2  with the help of three human allies, the autob...   \n",
       "3  when a prison ship crash unleashes hundreds of...   \n",
       "4  when nerdy high schooler dani finally attracts...   \n",
       "\n",
       "                                      ganre  \\\n",
       "0  movie childrenfamilymovies comedies TVPG   \n",
       "1                  movie standupcomedy TVMA   \n",
       "2                      tvshow kidstv TVY7FV   \n",
       "3                        tvshow kidstv TVY7   \n",
       "4                       movie comedies TV14   \n",
       "\n",
       "                                                team  \n",
       "0  richardfinn timmaltby alanmarriott andrewtoth ...  \n",
       "1                                    jandinoasporaat  \n",
       "2   petercullen sumaleemontano frankwelker jeffre...  \n",
       "3   willfriedle darrencriss constancezimmer khary...  \n",
       "4  fernandolebrija nestacooper katewalsh johnmich...  "
      ]
     },
     "execution_count": 22,
     "metadata": {},
     "output_type": "execute_result"
    }
   ],
   "source": [
    "raw_data.head()"
   ]
  },
  {
   "cell_type": "code",
   "execution_count": 23,
   "metadata": {
    "collapsed": false,
    "jupyter": {
     "outputs_hidden": false
    },
    "pycharm": {
     "name": "#%%\n"
    }
   },
   "outputs": [],
   "source": [
    "tokenizer = Tokenizer()\n",
    "tokenizer.fit_on_texts(raw_data['team'])\n",
    "X1 = tokenizer.texts_to_sequences(raw_data['team'])\n",
    "\n",
    "X1 = np.array(X1)"
   ]
  },
  {
   "cell_type": "code",
   "execution_count": 24,
   "metadata": {
    "collapsed": false,
    "jupyter": {
     "outputs_hidden": false
    },
    "pycharm": {
     "name": "#%%\n"
    }
   },
   "outputs": [
    {
     "name": "stderr",
     "output_type": "stream",
     "text": [
      "<ipython-input-24-c801ef1922ee>:1: SettingWithCopyWarning: \n",
      "A value is trying to be set on a copy of a slice from a DataFrame.\n",
      "Try using .loc[row_indexer,col_indexer] = value instead\n",
      "\n",
      "See the caveats in the documentation: https://pandas.pydata.org/pandas-docs/stable/user_guide/indexing.html#returning-a-view-versus-a-copy\n",
      "  final_data['pad'] = ''\n"
     ]
    }
   ],
   "source": [
    "final_data['pad'] = ''\n",
    "for index, value in enumerate(X1):\n",
    "\n",
    "    final_data.at[index,'pad'] = value"
   ]
  },
  {
   "cell_type": "code",
   "execution_count": 25,
   "metadata": {
    "collapsed": false,
    "jupyter": {
     "outputs_hidden": false
    },
    "pycharm": {
     "name": "#%%\n"
    }
   },
   "outputs": [],
   "source": [
    "vlookup_table = pd.merge(stacked, final_data[['index', \"pad\"]], left_on='index_1', right_on='index' )\n",
    "vlookup_table = pd.merge(vlookup_table, final_data[['index', \"pad\"]], left_on='index_2', right_on='index' )"
   ]
  },
  {
   "cell_type": "code",
   "execution_count": 26,
   "metadata": {
    "collapsed": false,
    "jupyter": {
     "outputs_hidden": false
    },
    "pycharm": {
     "name": "#%%\n"
    }
   },
   "outputs": [],
   "source": [
    "vlookup_table.rename(columns={\"pad_x\":\"pad_1\",\"pad_y\":\"pad_2\"}, inplace=True)"
   ]
  },
  {
   "cell_type": "code",
   "execution_count": 27,
   "metadata": {
    "collapsed": false,
    "jupyter": {
     "outputs_hidden": false
    },
    "pycharm": {
     "name": "#%%\n"
    }
   },
   "outputs": [],
   "source": [
    "vlookup_table.drop(columns=[\"index_y\",\"index_x\" ], inplace=True)"
   ]
  },
  {
   "cell_type": "code",
   "execution_count": 28,
   "metadata": {
    "collapsed": false,
    "jupyter": {
     "outputs_hidden": false
    },
    "pycharm": {
     "name": "#%%\n"
    }
   },
   "outputs": [
    {
     "data": {
      "text/html": [
       "<div>\n",
       "<style scoped>\n",
       "    .dataframe tbody tr th:only-of-type {\n",
       "        vertical-align: middle;\n",
       "    }\n",
       "\n",
       "    .dataframe tbody tr th {\n",
       "        vertical-align: top;\n",
       "    }\n",
       "\n",
       "    .dataframe thead th {\n",
       "        text-align: right;\n",
       "    }\n",
       "</style>\n",
       "<table border=\"1\" class=\"dataframe\">\n",
       "  <thead>\n",
       "    <tr style=\"text-align: right;\">\n",
       "      <th></th>\n",
       "      <th>index_1</th>\n",
       "      <th>index_2</th>\n",
       "      <th>Value</th>\n",
       "      <th>pad_1</th>\n",
       "      <th>pad_2</th>\n",
       "    </tr>\n",
       "  </thead>\n",
       "  <tbody>\n",
       "    <tr>\n",
       "      <th>0</th>\n",
       "      <td>0</td>\n",
       "      <td>0</td>\n",
       "      <td>6.000000</td>\n",
       "      <td>[8258, 3902, 2112, 2113, 822, 2114, 3903, 1283...</td>\n",
       "      <td>[8258, 3902, 2112, 2113, 822, 2114, 3903, 1283...</td>\n",
       "    </tr>\n",
       "    <tr>\n",
       "      <th>1</th>\n",
       "      <td>0</td>\n",
       "      <td>1</td>\n",
       "      <td>0.615420</td>\n",
       "      <td>[8258, 3902, 2112, 2113, 822, 2114, 3903, 1283...</td>\n",
       "      <td>[3905]</td>\n",
       "    </tr>\n",
       "    <tr>\n",
       "      <th>3</th>\n",
       "      <td>0</td>\n",
       "      <td>2</td>\n",
       "      <td>0.534280</td>\n",
       "      <td>[8258, 3902, 2112, 2113, 822, 2114, 3903, 1283...</td>\n",
       "      <td>[3906, 8260, 201, 3907, 109, 8261, 1284, 269, ...</td>\n",
       "    </tr>\n",
       "    <tr>\n",
       "      <th>6</th>\n",
       "      <td>0</td>\n",
       "      <td>3</td>\n",
       "      <td>0.500000</td>\n",
       "      <td>[8258, 3902, 2112, 2113, 822, 2114, 3903, 1283...</td>\n",
       "      <td>[2117, 3909, 2118, 3910, 3911, 8262, 2119, 3906]</td>\n",
       "    </tr>\n",
       "    <tr>\n",
       "      <th>10</th>\n",
       "      <td>0</td>\n",
       "      <td>4</td>\n",
       "      <td>1.693421</td>\n",
       "      <td>[8258, 3902, 2112, 2113, 822, 2114, 3903, 1283...</td>\n",
       "      <td>[8263, 1285, 584, 140, 3912, 8264, 8265, 8266,...</td>\n",
       "    </tr>\n",
       "    <tr>\n",
       "      <th>...</th>\n",
       "      <td>...</td>\n",
       "      <td>...</td>\n",
       "      <td>...</td>\n",
       "      <td>...</td>\n",
       "      <td>...</td>\n",
       "    </tr>\n",
       "    <tr>\n",
       "      <th>19428259</th>\n",
       "      <td>6231</td>\n",
       "      <td>6232</td>\n",
       "      <td>0.000000</td>\n",
       "      <td>[]</td>\n",
       "      <td>[3640, 811, 3684, 30685, 30686, 30687, 30688, ...</td>\n",
       "    </tr>\n",
       "    <tr>\n",
       "      <th>19434492</th>\n",
       "      <td>6231</td>\n",
       "      <td>6233</td>\n",
       "      <td>0.107211</td>\n",
       "      <td>[]</td>\n",
       "      <td>[706, 1026, 3073, 1588, 30690, 682]</td>\n",
       "    </tr>\n",
       "    <tr>\n",
       "      <th>19428260</th>\n",
       "      <td>6232</td>\n",
       "      <td>6232</td>\n",
       "      <td>6.000000</td>\n",
       "      <td>[3640, 811, 3684, 30685, 30686, 30687, 30688, ...</td>\n",
       "      <td>[3640, 811, 3684, 30685, 30686, 30687, 30688, ...</td>\n",
       "    </tr>\n",
       "    <tr>\n",
       "      <th>19434493</th>\n",
       "      <td>6232</td>\n",
       "      <td>6233</td>\n",
       "      <td>1.239255</td>\n",
       "      <td>[3640, 811, 3684, 30685, 30686, 30687, 30688, ...</td>\n",
       "      <td>[706, 1026, 3073, 1588, 30690, 682]</td>\n",
       "    </tr>\n",
       "    <tr>\n",
       "      <th>19434494</th>\n",
       "      <td>6233</td>\n",
       "      <td>6233</td>\n",
       "      <td>6.000000</td>\n",
       "      <td>[706, 1026, 3073, 1588, 30690, 682]</td>\n",
       "      <td>[706, 1026, 3073, 1588, 30690, 682]</td>\n",
       "    </tr>\n",
       "  </tbody>\n",
       "</table>\n",
       "<p>19434495 rows × 5 columns</p>\n",
       "</div>"
      ],
      "text/plain": [
       "          index_1  index_2     Value  \\\n",
       "0               0        0  6.000000   \n",
       "1               0        1  0.615420   \n",
       "3               0        2  0.534280   \n",
       "6               0        3  0.500000   \n",
       "10              0        4  1.693421   \n",
       "...           ...      ...       ...   \n",
       "19428259     6231     6232  0.000000   \n",
       "19434492     6231     6233  0.107211   \n",
       "19428260     6232     6232  6.000000   \n",
       "19434493     6232     6233  1.239255   \n",
       "19434494     6233     6233  6.000000   \n",
       "\n",
       "                                                      pad_1  \\\n",
       "0         [8258, 3902, 2112, 2113, 822, 2114, 3903, 1283...   \n",
       "1         [8258, 3902, 2112, 2113, 822, 2114, 3903, 1283...   \n",
       "3         [8258, 3902, 2112, 2113, 822, 2114, 3903, 1283...   \n",
       "6         [8258, 3902, 2112, 2113, 822, 2114, 3903, 1283...   \n",
       "10        [8258, 3902, 2112, 2113, 822, 2114, 3903, 1283...   \n",
       "...                                                     ...   \n",
       "19428259                                                 []   \n",
       "19434492                                                 []   \n",
       "19428260  [3640, 811, 3684, 30685, 30686, 30687, 30688, ...   \n",
       "19434493  [3640, 811, 3684, 30685, 30686, 30687, 30688, ...   \n",
       "19434494                [706, 1026, 3073, 1588, 30690, 682]   \n",
       "\n",
       "                                                      pad_2  \n",
       "0         [8258, 3902, 2112, 2113, 822, 2114, 3903, 1283...  \n",
       "1                                                    [3905]  \n",
       "3         [3906, 8260, 201, 3907, 109, 8261, 1284, 269, ...  \n",
       "6          [2117, 3909, 2118, 3910, 3911, 8262, 2119, 3906]  \n",
       "10        [8263, 1285, 584, 140, 3912, 8264, 8265, 8266,...  \n",
       "...                                                     ...  \n",
       "19428259  [3640, 811, 3684, 30685, 30686, 30687, 30688, ...  \n",
       "19434492                [706, 1026, 3073, 1588, 30690, 682]  \n",
       "19428260  [3640, 811, 3684, 30685, 30686, 30687, 30688, ...  \n",
       "19434493                [706, 1026, 3073, 1588, 30690, 682]  \n",
       "19434494                [706, 1026, 3073, 1588, 30690, 682]  \n",
       "\n",
       "[19434495 rows x 5 columns]"
      ]
     },
     "execution_count": 28,
     "metadata": {},
     "output_type": "execute_result"
    }
   ],
   "source": [
    "vlookup_table.sort_values(by=['index_1', 'index_2'] )"
   ]
  },
  {
   "cell_type": "code",
   "execution_count": 29,
   "metadata": {
    "collapsed": false,
    "jupyter": {
     "outputs_hidden": false
    },
    "pycharm": {
     "name": "#%%\n"
    }
   },
   "outputs": [],
   "source": [
    "vlookup_table.head()\n",
    "\n",
    "X1= pad_sequences(vlookup_table['pad_1'], maxlen=SEQUENCE_LENGTH)\n",
    "X2= pad_sequences(vlookup_table['pad_2'], maxlen=SEQUENCE_LENGTH)"
   ]
  },
  {
   "cell_type": "code",
   "execution_count": 42,
   "metadata": {
    "collapsed": false,
    "jupyter": {
     "outputs_hidden": false
    },
    "pycharm": {
     "name": "#%%\n"
    }
   },
   "outputs": [],
   "source": [
    "X = np.array([X1[:50],X2[:50]])"
   ]
  },
  {
   "cell_type": "code",
   "execution_count": 47,
   "metadata": {
    "collapsed": false,
    "jupyter": {
     "outputs_hidden": false
    },
    "pycharm": {
     "name": "#%%\n"
    }
   },
   "outputs": [
    {
     "data": {
      "text/plain": [
       "(50, 2, 20)"
      ]
     },
     "execution_count": 47,
     "metadata": {},
     "output_type": "execute_result"
    }
   ],
   "source": [
    "X.shape"
   ]
  },
  {
   "cell_type": "code",
   "execution_count": 43,
   "metadata": {
    "collapsed": false,
    "jupyter": {
     "outputs_hidden": false
    },
    "pycharm": {
     "name": "#%%\n"
    }
   },
   "outputs": [],
   "source": [
    "X = np.reshape(X, (X.shape[1],2,SEQUENCE_LENGTH))"
   ]
  },
  {
   "cell_type": "code",
   "execution_count": 49,
   "metadata": {
    "collapsed": false,
    "jupyter": {
     "outputs_hidden": false
    },
    "pycharm": {
     "name": "#%%\n"
    }
   },
   "outputs": [],
   "source": [
    "y = vlookup_table['Value'][:50].values\n",
    "\n",
    "y= (np.reshape(y, (y.shape[0],1)))\n",
    "y = scaler.fit_transform(y)"
   ]
  },
  {
   "cell_type": "code",
   "execution_count": 50,
   "metadata": {
    "collapsed": false,
    "jupyter": {
     "outputs_hidden": false
    },
    "pycharm": {
     "name": "#%%\n"
    }
   },
   "outputs": [],
   "source": [
    "X_train, X_test, y_train, y_test = train_test_split(X ,y, random_state=1, test_size=0.4)"
   ]
  },
  {
   "cell_type": "code",
   "execution_count": 51,
   "metadata": {
    "collapsed": false,
    "jupyter": {
     "outputs_hidden": false
    },
    "pycharm": {
     "name": "#%%\n"
    }
   },
   "outputs": [],
   "source": [
    "\n",
    "model = Sequential()\n",
    "model.add(Dense(64,activation='relu' ))\n",
    "model.add(Dense(64,activation='relu' ))\n",
    "model.add(Dense(32,activation='relu' ))\n",
    "model.add(Dense(1,activation='sigmoid' ))\n",
    "model.compile(optimizer=\"adam\", loss=\"binary_crossentropy\", metrics=[\"accuracy\"])"
   ]
  },
  {
   "cell_type": "code",
   "execution_count": 52,
   "metadata": {
    "collapsed": false,
    "jupyter": {
     "outputs_hidden": false
    },
    "pycharm": {
     "name": "#%%\n"
    }
   },
   "outputs": [
    {
     "name": "stdout",
     "output_type": "stream",
     "text": [
      "[[1.        ]\n",
      " [0.09628871]\n",
      " [1.        ]\n",
      " [0.08267071]\n",
      " [0.06352608]\n",
      " [1.        ]\n",
      " [0.07691747]\n",
      " [0.02189043]\n",
      " [0.48564628]\n",
      " [1.        ]\n",
      " [0.27721307]\n",
      " [0.16179044]\n",
      " [0.22231765]\n",
      " [0.18287164]\n",
      " [1.        ]\n",
      " [0.        ]\n",
      " [0.13482517]\n",
      " [0.11829781]\n",
      " [0.10340475]\n",
      " [0.03039988]\n",
      " [1.        ]\n",
      " [0.14942246]\n",
      " [0.10327268]\n",
      " [0.08293845]\n",
      " [0.07691747]\n",
      " [0.18061695]\n",
      " [0.09156715]\n",
      " [1.        ]\n",
      " [0.08989941]\n",
      " [0.37245066]\n",
      " [0.02116144]\n",
      " [0.00915063]\n",
      " [0.12397477]\n",
      " [0.12763189]\n",
      " [0.10485118]\n",
      " [1.        ]\n",
      " [0.07691747]\n",
      " [0.12184591]\n",
      " [0.29225208]\n",
      " [0.2742297 ]\n",
      " [0.18032964]\n",
      " [0.18511021]\n",
      " [0.09219082]\n",
      " [0.12561668]\n",
      " [0.66433362]\n",
      " [0.13185771]\n",
      " [0.23353136]\n",
      " [0.12869669]\n",
      " [0.10166312]\n",
      " [0.24079447]]\n"
     ]
    }
   ],
   "source": [
    "print(y)"
   ]
  },
  {
   "cell_type": "code",
   "execution_count": 53,
   "metadata": {
    "collapsed": false,
    "jupyter": {
     "outputs_hidden": false
    },
    "pycharm": {
     "name": "#%%\n"
    }
   },
   "outputs": [
    {
     "name": "stdout",
     "output_type": "stream",
     "text": [
      "Epoch 1/2\n",
      "1/1 [==============================] - 0s 1ms/step - loss: 6.3135 - accuracy: 0.05\n",
      "Epoch 2/2\n",
      "1/1 [==============================] - 0s 962us/step - loss: 6.3134 - accuracy: 0.05\n"
     ]
    },
    {
     "data": {
      "text/plain": [
       "<tensorflow.python.keras.callbacks.History at 0x7fd68adbe7c0>"
      ]
     },
     "execution_count": 53,
     "metadata": {},
     "output_type": "execute_result"
    }
   ],
   "source": [
    "model.fit(X_train,y_train, epochs=2, batch_size=128)"
   ]
  },
  {
   "cell_type": "code",
   "execution_count": 54,
   "metadata": {
    "collapsed": false,
    "jupyter": {
     "outputs_hidden": false
    },
    "pycharm": {
     "name": "#%%\n"
    }
   },
   "outputs": [],
   "source": [
    "X_train = np.reshape(X_train, ( X_train.shape[0], X_train.shape[1], X_train.shape[2],1))\n",
    "\n",
    "X_train = X_train/255.0\n",
    "\n",
    "X_train.shape\n",
    "y_train = y_train.reshape(y_train.shape[0])"
   ]
  },
  {
   "cell_type": "code",
   "execution_count": 55,
   "metadata": {
    "collapsed": false,
    "jupyter": {
     "outputs_hidden": false
    },
    "pycharm": {
     "name": "#%%\n"
    }
   },
   "outputs": [],
   "source": [
    "from keras.layers import Conv2D, MaxPooling2D, Flatten, Activation\n",
    "\n",
    "model = Sequential()\n",
    "\n",
    "model.add(Conv2D(32, (2,10), input_shape = X_train.shape[1:]))\n",
    "model.add(Activation('relu'))\n",
    "model.add(MaxPooling2D(pool_size=(1,5)))\n",
    "\n",
    "model.add(Conv2D(16, (1,2)))\n",
    "model.add(Activation('relu'))\n",
    "model.add(MaxPooling2D(pool_size=(1,1)))\n",
    "\n",
    "model.add(Flatten())\n",
    "\n",
    "model.add(Dense(16))\n",
    "model.add(Activation('relu'))\n",
    "\n",
    "model.add(Dense(8))\n",
    "model.add(Activation('relu'))\n",
    "\n",
    "model.add(Dense(1))\n",
    "model.add(Activation('sigmoid'))\n",
    "\n",
    "model.compile(loss = 'mse', optimizer= 'adam', metrics=['accuracy'])"
   ]
  },
  {
   "cell_type": "code",
   "execution_count": 56,
   "metadata": {
    "collapsed": false,
    "jupyter": {
     "outputs_hidden": false
    },
    "pycharm": {
     "name": "#%%\n"
    }
   },
   "outputs": [
    {
     "name": "stdout",
     "output_type": "stream",
     "text": [
      "Epoch 1/20\n",
      "8/8 [==============================] - 0s 4ms/step - loss: 0.1849 - accuracy: 0.03\n",
      "Epoch 2/20\n",
      "8/8 [==============================] - 0s 1ms/step - loss: 0.1332 - accuracy: 0.03\n",
      "Epoch 3/20\n",
      "8/8 [==============================] - 0s 1ms/step - loss: 0.1213 - accuracy: 0.03\n",
      "Epoch 4/20\n",
      "8/8 [==============================] - 0s 1ms/step - loss: 0.1140 - accuracy: 0.03\n",
      "Epoch 5/20\n",
      "8/8 [==============================] - 0s 1ms/step - loss: 0.1003 - accuracy: 0.03\n",
      "Epoch 6/20\n",
      "8/8 [==============================] - 0s 1ms/step - loss: 0.0913 - accuracy: 0.03\n",
      "Epoch 7/20\n",
      "8/8 [==============================] - 0s 1ms/step - loss: 0.0914 - accuracy: 0.03\n",
      "Epoch 8/20\n",
      "8/8 [==============================] - 0s 1ms/step - loss: 0.0912 - accuracy: 0.03\n",
      "Epoch 9/20\n",
      "8/8 [==============================] - 0s 2ms/step - loss: 0.0859 - accuracy: 0.03\n",
      "Epoch 10/20\n",
      "8/8 [==============================] - 0s 1ms/step - loss: 0.0828 - accuracy: 0.03\n",
      "Epoch 11/20\n",
      "8/8 [==============================] - 0s 1ms/step - loss: 0.0827 - accuracy: 0.03\n",
      "Epoch 12/20\n",
      "8/8 [==============================] - 0s 1ms/step - loss: 0.0823 - accuracy: 0.03\n",
      "Epoch 13/20\n",
      "8/8 [==============================] - 0s 1ms/step - loss: 0.0833 - accuracy: 0.03\n",
      "Epoch 14/20\n",
      "8/8 [==============================] - 0s 1ms/step - loss: 0.0824 - accuracy: 0.03\n",
      "Epoch 15/20\n",
      "8/8 [==============================] - 0s 1ms/step - loss: 0.0781 - accuracy: 0.03\n",
      "Epoch 16/20\n",
      "8/8 [==============================] - 0s 1ms/step - loss: 0.0792 - accuracy: 0.03\n",
      "Epoch 17/20\n",
      "8/8 [==============================] - 0s 1ms/step - loss: 0.0778 - accuracy: 0.03\n",
      "Epoch 18/20\n",
      "8/8 [==============================] - 0s 1ms/step - loss: 0.0783 - accuracy: 0.03\n",
      "Epoch 19/20\n",
      "8/8 [==============================] - 0s 1ms/step - loss: 0.0782 - accuracy: 0.03\n",
      "Epoch 20/20\n",
      "8/8 [==============================] - 0s 2ms/step - loss: 0.0778 - accuracy: 0.03\n"
     ]
    },
    {
     "data": {
      "text/plain": [
       "<tensorflow.python.keras.callbacks.History at 0x7fd6ba521610>"
      ]
     },
     "execution_count": 56,
     "metadata": {},
     "output_type": "execute_result"
    }
   ],
   "source": [
    "model.fit(X_train, np.array(y_train), epochs=20, batch_size = 4)"
   ]
  },
  {
   "cell_type": "code",
   "execution_count": null,
   "metadata": {
    "collapsed": false,
    "jupyter": {
     "outputs_hidden": false
    },
    "pycharm": {
     "name": "#%%\n"
    }
   },
   "outputs": [],
   "source": [
    "X_test = X_test.reshape(X_test.shape[0],X_test.shape[1],X_test.shape[2],1)\n",
    "X_test = X_test/255.0\n",
    "prediction = model.predict(X_test)\n",
    "\n",
    "\n"
   ]
  }
 ],
 "metadata": {
  "kernelspec": {
   "display_name": "Python 3",
   "language": "python",
   "name": "python3"
  },
  "language_info": {
   "codemirror_mode": {
    "name": "ipython",
    "version": 3
   },
   "file_extension": ".py",
   "mimetype": "text/x-python",
   "name": "python",
   "nbconvert_exporter": "python",
   "pygments_lexer": "ipython3",
   "version": "3.8.3"
  }
 },
 "nbformat": 4,
 "nbformat_minor": 4
}
